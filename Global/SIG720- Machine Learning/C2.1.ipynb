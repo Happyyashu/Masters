{
 "cells": [
  {
   "cell_type": "markdown",
   "id": "95f2d770-ccc8-4a52-9451-3d88aba666b0",
   "metadata": {},
   "source": [
    "#### Credit Task-2"
   ]
  },
  {
   "cell_type": "code",
   "execution_count": 1,
   "id": "2ff7051d-54ce-4bb5-8bde-fb5a1ed73335",
   "metadata": {},
   "outputs": [],
   "source": [
    "from sklearn.linear_model import Lasso,ElasticNet,Ridge\n",
    "import warnings\n",
    "warnings.simplefilter(\"ignore\")\n",
    "from sklearn.datasets import load_boston\n",
    "from sklearn.model_selection import train_test_split\n",
    "import pandas as pd\n",
    "import numpy as np\n",
    "from sklearn.linear_model import LogisticRegression\n",
    "from sklearn.tree import DecisionTreeClassifier\n",
    "from sklearn.ensemble import RandomForestClassifier\n",
    "import matplotlib.pyplot as plt\n",
    "from sklearn.naive_bayes import GaussianNB\n",
    "from sklearn.model_selection import GridSearchCV\n",
    "# Importing the necessary libraries\n",
    "import numpy as np\n",
    "import pandas as pd\n",
    "import matplotlib.pyplot as plt\n",
    "import seaborn as sns\n",
    "from sklearn.preprocessing import StandardScaler,MinMaxScaler\n",
    "from sklearn.decomposition import PCA\n",
    "from sklearn.cluster import KMeans\n",
    "from sklearn.metrics import silhouette_score\n",
    "sns.set()\n",
    "import plotly.express as px\n",
    "from sklearn.tree import DecisionTreeRegressor\n",
    "from sklearn.ensemble import RandomForestRegressor\n",
    "from sklearn.preprocessing import StandardScaler\n",
    "from sklearn.linear_model import LinearRegression,Lasso,Ridge,ElasticNet,ElasticNetCV\n",
    "from xgboost import XGBRegressor\n",
    "from sklearn.model_selection import GridSearchCV\n",
    "from tqdm import tqdm\n",
    "from sklearn.model_selection import KFold,StratifiedKFold\n",
    "import matplotlib.pyplot as plt\n",
    "from sklearn.ensemble import GradientBoostingRegressor,AdaBoostRegressor\n",
    "from sklearn.metrics import mean_absolute_error,mean_squared_error"
   ]
  },
  {
   "cell_type": "markdown",
   "id": "c2ec0939-431b-4f74-9522-65f40efcb8ac",
   "metadata": {},
   "source": [
    "##### 1. What are the differences between hyperparameters and parameters of a machine learning (ML) model? Explain your answer using at least two machine learning models that you have learned in this unit."
   ]
  },
  {
   "cell_type": "markdown",
   "id": "d7c0fb3b-123e-4103-94f2-a0488b6367d8",
   "metadata": {},
   "source": [
    "##### Parameters"
   ]
  },
  {
   "cell_type": "markdown",
   "id": "2578f8fd-051d-4450-85d7-86657b7cb668",
   "metadata": {},
   "source": [
    "The objective of a typical learning algorithm is to find a function f that minimizes a certain loss over a dataset.The learning algorithm produces f through the optimization os a training criterion with respect to a set of **parameters**.These are the parameters in the model that must be determined using the training data set. These are the fitted parameters.<br>Model training typically starts with parameters being initialized to some values (random values or set to zeros). As training/learning progresses the initial values are updated using an optimization algorithm (e.g. gradient descent). The learning algorithm is continuously updating the parameter values as learning progress but hyperparameter values set by the model designer remain unchanged.\n",
    "\n",
    "At the end of the learning process, model parameters are what constitute the model itself.<br><br>\n",
    "Examples of parameters<br>\n",
    "The coefficients (or weights) of linear and logistic regression models.<br>\n",
    "Weights and biases of a nn<br>\n",
    "The cluster centroids in clustering"
   ]
  },
  {
   "cell_type": "markdown",
   "id": "9930d13e-2eba-4897-accd-9a69abf62231",
   "metadata": {},
   "source": [
    "##### Hyperparameters"
   ]
  },
  {
   "cell_type": "markdown",
   "id": "e4ccf936-0c49-41c9-a35b-bfd3a4529f5e",
   "metadata": {},
   "source": [
    "Hyperparameters are parameters that are not directly learnt by the  learning algorithm.They are specified outside the training procedure.They control the capacity of the model i.e. how flexible the modelis to fit the data.They prevent overfitting.These are adjustable parameters that must be tuned in order to obtain a model with optimal performance.<br>Hyperparameters are parameters whose values control the learning process and determine the values of model parameters that a learning algorithm ends up learning. The prefix ‘hyper_’ suggests that they are ‘top-level’ parameters that control the learning process and the model parameters that result from it<br>Anything in machine learning and deep learning that you decide their values or choose their configuration before training begins and whose values or configuration will remain the same when training ends is a hyperparameter<br><br>**Here are some common examples**<br>\n",
    "Train-test split ratio<br>\n",
    "Learning rate in optimization algorithms (e.g. gradient descent)<br>\n",
    "Choice of optimization algorithm (e.g., gradient descent, stochastic gradient descent, or Adam optimizer)<br>\n",
    "Choice of activation function in a neural network (nn) layer (e.g. Sigmoid, ReLU, Tanh)<br>\n",
    "The choice of cost or loss function the model will use<br>\n",
    "Number of clusters in a clustering task<br>\n",
    "Kernel or filter size in convolutional layers<br>\n"
   ]
  },
  {
   "cell_type": "markdown",
   "id": "3c16848c-2be5-489a-8c12-23aefafee46e",
   "metadata": {},
   "source": [
    "For example, suppose you want to build a simple linear regression model using an m-dimensional training data set. Then your model can be written as:\n",
    "\n",
    "where X is the predictor matrix, and w are the weights. Here w_0, w_1, w_2, …,w_m are the **model parameters**. If the model uses the gradient descent algorithm to minimize the objective function in order to determine the weights w_0, w_1, w_2, …,w_m, then we can have an optimizer such as GradientDescent(eta, n_iter). Here eta (learning rate) and n_iter (number of iterations) are the **hyperparameters** that would have to be adjusted in order to obtain the best values for the **model parameters** w_0, w_1, w_2, …,w_m."
   ]
  },
  {
   "cell_type": "markdown",
   "id": "21d5db58-c9fe-4fbc-9369-75b4d428acbd",
   "metadata": {},
   "source": [
    "Simply put, parameters in machine learning and deep learning are the values your learning algorithm can change independently as it learns and these values are affected by the choice of hyperparameters you provide. So you set the hyperparameters before training begins and the learning algorithm uses them to learn the parameters. Behind the training scene, parameters are continuously being updated and the final ones at the end of the training constitute your model.\n",
    "\n",
    "Therefore, setting the right hyperparameter values is very important because it directly impacts the performance of the model that will result from them being used during model training."
   ]
  },
  {
   "cell_type": "code",
   "execution_count": 2,
   "id": "1a0c98e2-4457-4db9-8d61-cd5bc4cb441d",
   "metadata": {},
   "outputs": [
    {
     "data": {
      "text/html": [
       "<div>\n",
       "<style scoped>\n",
       "    .dataframe tbody tr th:only-of-type {\n",
       "        vertical-align: middle;\n",
       "    }\n",
       "\n",
       "    .dataframe tbody tr th {\n",
       "        vertical-align: top;\n",
       "    }\n",
       "\n",
       "    .dataframe thead th {\n",
       "        text-align: right;\n",
       "    }\n",
       "</style>\n",
       "<table border=\"1\" class=\"dataframe\">\n",
       "  <thead>\n",
       "    <tr style=\"text-align: right;\">\n",
       "      <th></th>\n",
       "      <th>mcg</th>\n",
       "      <th>gvh</th>\n",
       "      <th>alm</th>\n",
       "      <th>mit</th>\n",
       "      <th>erl</th>\n",
       "      <th>pox</th>\n",
       "      <th>vac</th>\n",
       "      <th>nuc</th>\n",
       "      <th>class</th>\n",
       "    </tr>\n",
       "  </thead>\n",
       "  <tbody>\n",
       "    <tr>\n",
       "      <th>0</th>\n",
       "      <td>0.51</td>\n",
       "      <td>0.40</td>\n",
       "      <td>0.56</td>\n",
       "      <td>0.17</td>\n",
       "      <td>0.5</td>\n",
       "      <td>0.5</td>\n",
       "      <td>0.49</td>\n",
       "      <td>0.22</td>\n",
       "      <td>negative</td>\n",
       "    </tr>\n",
       "    <tr>\n",
       "      <th>1</th>\n",
       "      <td>0.40</td>\n",
       "      <td>0.39</td>\n",
       "      <td>0.60</td>\n",
       "      <td>0.15</td>\n",
       "      <td>0.5</td>\n",
       "      <td>0.0</td>\n",
       "      <td>0.58</td>\n",
       "      <td>0.30</td>\n",
       "      <td>negative</td>\n",
       "    </tr>\n",
       "    <tr>\n",
       "      <th>2</th>\n",
       "      <td>0.40</td>\n",
       "      <td>0.42</td>\n",
       "      <td>0.57</td>\n",
       "      <td>0.35</td>\n",
       "      <td>0.5</td>\n",
       "      <td>0.0</td>\n",
       "      <td>0.53</td>\n",
       "      <td>0.25</td>\n",
       "      <td>negative</td>\n",
       "    </tr>\n",
       "    <tr>\n",
       "      <th>3</th>\n",
       "      <td>0.46</td>\n",
       "      <td>0.44</td>\n",
       "      <td>0.52</td>\n",
       "      <td>0.11</td>\n",
       "      <td>0.5</td>\n",
       "      <td>0.0</td>\n",
       "      <td>0.50</td>\n",
       "      <td>0.22</td>\n",
       "      <td>negative</td>\n",
       "    </tr>\n",
       "    <tr>\n",
       "      <th>4</th>\n",
       "      <td>0.47</td>\n",
       "      <td>0.39</td>\n",
       "      <td>0.50</td>\n",
       "      <td>0.11</td>\n",
       "      <td>0.5</td>\n",
       "      <td>0.0</td>\n",
       "      <td>0.49</td>\n",
       "      <td>0.40</td>\n",
       "      <td>negative</td>\n",
       "    </tr>\n",
       "  </tbody>\n",
       "</table>\n",
       "</div>"
      ],
      "text/plain": [
       "    mcg   gvh   alm   mit  erl  pox   vac   nuc     class\n",
       "0  0.51  0.40  0.56  0.17  0.5  0.5  0.49  0.22  negative\n",
       "1  0.40  0.39  0.60  0.15  0.5  0.0  0.58  0.30  negative\n",
       "2  0.40  0.42  0.57  0.35  0.5  0.0  0.53  0.25  negative\n",
       "3  0.46  0.44  0.52  0.11  0.5  0.0  0.50  0.22  negative\n",
       "4  0.47  0.39  0.50  0.11  0.5  0.0  0.49  0.40  negative"
      ]
     },
     "execution_count": 2,
     "metadata": {},
     "output_type": "execute_result"
    }
   ],
   "source": [
    "df = pd.read_csv('yeast2vs4.csv')\n",
    "df.head()"
   ]
  },
  {
   "cell_type": "code",
   "execution_count": 3,
   "id": "8f0631ae-2f78-4c98-b01f-69d7c2ebab99",
   "metadata": {},
   "outputs": [
    {
     "data": {
      "text/html": [
       "<div>\n",
       "<style scoped>\n",
       "    .dataframe tbody tr th:only-of-type {\n",
       "        vertical-align: middle;\n",
       "    }\n",
       "\n",
       "    .dataframe tbody tr th {\n",
       "        vertical-align: top;\n",
       "    }\n",
       "\n",
       "    .dataframe thead th {\n",
       "        text-align: right;\n",
       "    }\n",
       "</style>\n",
       "<table border=\"1\" class=\"dataframe\">\n",
       "  <thead>\n",
       "    <tr style=\"text-align: right;\">\n",
       "      <th></th>\n",
       "      <th>mcg</th>\n",
       "      <th>gvh</th>\n",
       "      <th>alm</th>\n",
       "      <th>mit</th>\n",
       "      <th>erl</th>\n",
       "      <th>pox</th>\n",
       "      <th>vac</th>\n",
       "      <th>nuc</th>\n",
       "      <th>class</th>\n",
       "    </tr>\n",
       "  </thead>\n",
       "  <tbody>\n",
       "    <tr>\n",
       "      <th>0</th>\n",
       "      <td>0.51</td>\n",
       "      <td>0.40</td>\n",
       "      <td>0.56</td>\n",
       "      <td>0.17</td>\n",
       "      <td>0.5</td>\n",
       "      <td>0.5</td>\n",
       "      <td>0.49</td>\n",
       "      <td>0.22</td>\n",
       "      <td>0</td>\n",
       "    </tr>\n",
       "    <tr>\n",
       "      <th>1</th>\n",
       "      <td>0.40</td>\n",
       "      <td>0.39</td>\n",
       "      <td>0.60</td>\n",
       "      <td>0.15</td>\n",
       "      <td>0.5</td>\n",
       "      <td>0.0</td>\n",
       "      <td>0.58</td>\n",
       "      <td>0.30</td>\n",
       "      <td>0</td>\n",
       "    </tr>\n",
       "    <tr>\n",
       "      <th>2</th>\n",
       "      <td>0.40</td>\n",
       "      <td>0.42</td>\n",
       "      <td>0.57</td>\n",
       "      <td>0.35</td>\n",
       "      <td>0.5</td>\n",
       "      <td>0.0</td>\n",
       "      <td>0.53</td>\n",
       "      <td>0.25</td>\n",
       "      <td>0</td>\n",
       "    </tr>\n",
       "    <tr>\n",
       "      <th>3</th>\n",
       "      <td>0.46</td>\n",
       "      <td>0.44</td>\n",
       "      <td>0.52</td>\n",
       "      <td>0.11</td>\n",
       "      <td>0.5</td>\n",
       "      <td>0.0</td>\n",
       "      <td>0.50</td>\n",
       "      <td>0.22</td>\n",
       "      <td>0</td>\n",
       "    </tr>\n",
       "    <tr>\n",
       "      <th>4</th>\n",
       "      <td>0.47</td>\n",
       "      <td>0.39</td>\n",
       "      <td>0.50</td>\n",
       "      <td>0.11</td>\n",
       "      <td>0.5</td>\n",
       "      <td>0.0</td>\n",
       "      <td>0.49</td>\n",
       "      <td>0.40</td>\n",
       "      <td>0</td>\n",
       "    </tr>\n",
       "  </tbody>\n",
       "</table>\n",
       "</div>"
      ],
      "text/plain": [
       "    mcg   gvh   alm   mit  erl  pox   vac   nuc  class\n",
       "0  0.51  0.40  0.56  0.17  0.5  0.5  0.49  0.22      0\n",
       "1  0.40  0.39  0.60  0.15  0.5  0.0  0.58  0.30      0\n",
       "2  0.40  0.42  0.57  0.35  0.5  0.0  0.53  0.25      0\n",
       "3  0.46  0.44  0.52  0.11  0.5  0.0  0.50  0.22      0\n",
       "4  0.47  0.39  0.50  0.11  0.5  0.0  0.49  0.40      0"
      ]
     },
     "execution_count": 3,
     "metadata": {},
     "output_type": "execute_result"
    }
   ],
   "source": [
    "def class_target(val):\n",
    "    if val == 'negative':\n",
    "        return 0\n",
    "    else:\n",
    "        return 1\n",
    "df['class'] = df['class'].apply(class_target)\n",
    "df.head()"
   ]
  },
  {
   "cell_type": "code",
   "execution_count": 4,
   "id": "3bec8df2-8179-4353-ba29-22e1d0dac9a9",
   "metadata": {},
   "outputs": [
    {
     "name": "stdout",
     "output_type": "stream",
     "text": [
      "Fitting 5 folds for each of 80 candidates, totalling 400 fits\n",
      "\n",
      "LogisticRegression Parameters learnt during training:\n",
      "Coeficient:[  9.46729044   3.1974514  -19.31254145   0.15799067   3.21084749\n",
      "   0.           0.           0.        ]\n",
      "\n",
      "LogisticRegression hyperparameters optimized during training:\n",
      ":{'C': 1, 'class_weight': {0: 1, 1: 10}, 'penalty': 'l1', 'solver': 'liblinear'}\n"
     ]
    }
   ],
   "source": [
    "X = df.drop('class',axis = 1)\n",
    "y = df['class']\n",
    "X_train, X_test, y_train, y_test = train_test_split(X, y, test_size=0.33, random_state=42)\n",
    "logit = LogisticRegression()\n",
    "# logit.fit(X_train,y_train)\n",
    "\n",
    "\n",
    "param_grid = [    \n",
    "    {'penalty' : ['l1', 'l2'],\n",
    "    'C' : [0.5,1],\n",
    "    'solver' : ['lbfgs','newton-cg','liblinear','sag','saga'],\n",
    "     'class_weight':[{0:1,1:10},{0:1,1:50},{0:1,1:40},{0:1,1:30}]\n",
    "    }\n",
    "]\n",
    "\n",
    "\n",
    "\n",
    "logit = LogisticRegression()\n",
    "grid = GridSearchCV(estimator=logit,scoring='accuracy',param_grid=param_grid,cv = 5,verbose=1)\n",
    "grid.fit(X_train,y_train)\n",
    "\n",
    "print(f\"\\nLogisticRegression Parameters learnt during training:\\nCoeficient:{grid.best_estimator_.coef_[0]}\\n\")\n",
    "print(f\"LogisticRegression hyperparameters optimized during training:\\n:{grid.best_params_}\")"
   ]
  },
  {
   "cell_type": "markdown",
   "id": "68c3a445-bd9c-4d8d-bc03-ef0ff1ba2442",
   "metadata": {},
   "source": [
    "<br>"
   ]
  },
  {
   "cell_type": "code",
   "execution_count": 5,
   "id": "e9e0dec6-dcae-42db-988d-5b77eec65044",
   "metadata": {},
   "outputs": [
    {
     "data": {
      "text/html": [
       "<div>\n",
       "<style scoped>\n",
       "    .dataframe tbody tr th:only-of-type {\n",
       "        vertical-align: middle;\n",
       "    }\n",
       "\n",
       "    .dataframe tbody tr th {\n",
       "        vertical-align: top;\n",
       "    }\n",
       "\n",
       "    .dataframe thead th {\n",
       "        text-align: right;\n",
       "    }\n",
       "</style>\n",
       "<table border=\"1\" class=\"dataframe\">\n",
       "  <thead>\n",
       "    <tr style=\"text-align: right;\">\n",
       "      <th></th>\n",
       "      <th>0</th>\n",
       "      <th>1</th>\n",
       "      <th>2</th>\n",
       "      <th>3</th>\n",
       "      <th>4</th>\n",
       "      <th>5</th>\n",
       "      <th>6</th>\n",
       "      <th>7</th>\n",
       "      <th>8</th>\n",
       "      <th>9</th>\n",
       "      <th>10</th>\n",
       "      <th>11</th>\n",
       "      <th>12</th>\n",
       "      <th>target_price</th>\n",
       "    </tr>\n",
       "  </thead>\n",
       "  <tbody>\n",
       "    <tr>\n",
       "      <th>0</th>\n",
       "      <td>0.00632</td>\n",
       "      <td>18.0</td>\n",
       "      <td>2.31</td>\n",
       "      <td>0.0</td>\n",
       "      <td>0.538</td>\n",
       "      <td>6.575</td>\n",
       "      <td>65.2</td>\n",
       "      <td>4.0900</td>\n",
       "      <td>1.0</td>\n",
       "      <td>296.0</td>\n",
       "      <td>15.3</td>\n",
       "      <td>396.90</td>\n",
       "      <td>4.98</td>\n",
       "      <td>24.0</td>\n",
       "    </tr>\n",
       "    <tr>\n",
       "      <th>1</th>\n",
       "      <td>0.02731</td>\n",
       "      <td>0.0</td>\n",
       "      <td>7.07</td>\n",
       "      <td>0.0</td>\n",
       "      <td>0.469</td>\n",
       "      <td>6.421</td>\n",
       "      <td>78.9</td>\n",
       "      <td>4.9671</td>\n",
       "      <td>2.0</td>\n",
       "      <td>242.0</td>\n",
       "      <td>17.8</td>\n",
       "      <td>396.90</td>\n",
       "      <td>9.14</td>\n",
       "      <td>21.6</td>\n",
       "    </tr>\n",
       "    <tr>\n",
       "      <th>2</th>\n",
       "      <td>0.02729</td>\n",
       "      <td>0.0</td>\n",
       "      <td>7.07</td>\n",
       "      <td>0.0</td>\n",
       "      <td>0.469</td>\n",
       "      <td>7.185</td>\n",
       "      <td>61.1</td>\n",
       "      <td>4.9671</td>\n",
       "      <td>2.0</td>\n",
       "      <td>242.0</td>\n",
       "      <td>17.8</td>\n",
       "      <td>392.83</td>\n",
       "      <td>4.03</td>\n",
       "      <td>34.7</td>\n",
       "    </tr>\n",
       "    <tr>\n",
       "      <th>3</th>\n",
       "      <td>0.03237</td>\n",
       "      <td>0.0</td>\n",
       "      <td>2.18</td>\n",
       "      <td>0.0</td>\n",
       "      <td>0.458</td>\n",
       "      <td>6.998</td>\n",
       "      <td>45.8</td>\n",
       "      <td>6.0622</td>\n",
       "      <td>3.0</td>\n",
       "      <td>222.0</td>\n",
       "      <td>18.7</td>\n",
       "      <td>394.63</td>\n",
       "      <td>2.94</td>\n",
       "      <td>33.4</td>\n",
       "    </tr>\n",
       "    <tr>\n",
       "      <th>4</th>\n",
       "      <td>0.06905</td>\n",
       "      <td>0.0</td>\n",
       "      <td>2.18</td>\n",
       "      <td>0.0</td>\n",
       "      <td>0.458</td>\n",
       "      <td>7.147</td>\n",
       "      <td>54.2</td>\n",
       "      <td>6.0622</td>\n",
       "      <td>3.0</td>\n",
       "      <td>222.0</td>\n",
       "      <td>18.7</td>\n",
       "      <td>396.90</td>\n",
       "      <td>5.33</td>\n",
       "      <td>36.2</td>\n",
       "    </tr>\n",
       "  </tbody>\n",
       "</table>\n",
       "</div>"
      ],
      "text/plain": [
       "         0     1     2    3      4      5     6       7    8      9    10  \\\n",
       "0  0.00632  18.0  2.31  0.0  0.538  6.575  65.2  4.0900  1.0  296.0  15.3   \n",
       "1  0.02731   0.0  7.07  0.0  0.469  6.421  78.9  4.9671  2.0  242.0  17.8   \n",
       "2  0.02729   0.0  7.07  0.0  0.469  7.185  61.1  4.9671  2.0  242.0  17.8   \n",
       "3  0.03237   0.0  2.18  0.0  0.458  6.998  45.8  6.0622  3.0  222.0  18.7   \n",
       "4  0.06905   0.0  2.18  0.0  0.458  7.147  54.2  6.0622  3.0  222.0  18.7   \n",
       "\n",
       "       11    12  target_price  \n",
       "0  396.90  4.98          24.0  \n",
       "1  396.90  9.14          21.6  \n",
       "2  392.83  4.03          34.7  \n",
       "3  394.63  2.94          33.4  \n",
       "4  396.90  5.33          36.2  "
      ]
     },
     "execution_count": 5,
     "metadata": {},
     "output_type": "execute_result"
    }
   ],
   "source": [
    "import warnings\n",
    "warnings.simplefilter('ignore')\n",
    "\n",
    "X, y = load_boston(return_X_y=True)\n",
    "df = pd.DataFrame(data = X)\n",
    "df.head()\n",
    "df['target_price'] = y\n",
    "df.head()"
   ]
  },
  {
   "cell_type": "code",
   "execution_count": 6,
   "id": "df79f5f1-61b4-4ffd-a81b-f49cf90592c4",
   "metadata": {},
   "outputs": [],
   "source": [
    "X_train, X_test, y_train, y_test = train_test_split(X, y, test_size=0.33, random_state=42)"
   ]
  },
  {
   "cell_type": "code",
   "execution_count": 7,
   "id": "a56111e4-5fdc-47b7-aa9a-5d1daac87f2f",
   "metadata": {},
   "outputs": [
    {
     "name": "stdout",
     "output_type": "stream",
     "text": [
      "\n",
      "Lasso Parameters learnt during training:\n",
      "Coeficient:-0.12786279767984887\n",
      "\n",
      "\n",
      "Lasso Parameters learnt during training:\\Intercept:32.643702456097536\n",
      "\n",
      "Lasso hyperparameters optimized during training:\n",
      ":{'alpha': 0.0031257158496882415}\n"
     ]
    }
   ],
   "source": [
    "params = {'alpha': (np.logspace(-8, 8, 100))} # It will check from 1e-08 to 1e+08\n",
    "lasso = Lasso()\n",
    "lasso_model = GridSearchCV(lasso, params, cv = 10)\n",
    "lasso_model.fit(X_train, y_train)\n",
    "print(f\"\\nLasso Parameters learnt during training:\\nCoeficient:{lasso_model.best_estimator_.coef_[0]}\\n\")\n",
    "print(f\"\\nLasso Parameters learnt during training:\\Intercept:{lasso_model.best_estimator_.intercept_}\\n\")\n",
    "\n",
    "print(f\"Lasso hyperparameters optimized during training:\\n:{lasso_model.best_params_}\")"
   ]
  },
  {
   "cell_type": "code",
   "execution_count": 8,
   "id": "5560c43f-b01e-413d-a71b-9437c71c0ae7",
   "metadata": {},
   "outputs": [
    {
     "name": "stdout",
     "output_type": "stream",
     "text": [
      "Parameter learnt during training\n",
      "Features importance parameter learnt during:\n",
      "\n",
      "mcg -> 0.5773288416567178\n",
      "gvh -> 0.018833717674627694\n",
      "alm -> 0.3371038418313307\n",
      "mit -> 0.0\n",
      "erl -> 0.0\n",
      "pox -> 0.0\n",
      "vac -> 0.027412206073588696\n",
      "nuc -> 0.039321392763734975\n",
      "\n",
      "DecisionTree hyperparameters optimized during training:\n",
      ":{'class_weight': {0: 1, 1: 10}, 'criterion': 'gini', 'max_depth': 5}\n"
     ]
    }
   ],
   "source": [
    "df = pd.read_csv('yeast2vs4.csv')\n",
    "# df.head()\n",
    "df['class'] = df['class'].apply(class_target)\n",
    "# df.head()\n",
    "X = df.drop('class',axis = 1)\n",
    "y = df['class']\n",
    "X_train, X_test, y_train, y_test = train_test_split(X, y, test_size=0.33, random_state=42)\n",
    "dt = DecisionTreeClassifier()\n",
    "# fit the model\n",
    "\n",
    "param_grid = {'max_depth':[2,3,4,5],\n",
    "             'class_weight':[{0:1,1:10},{0:1,1:50},{0:1,1:100},'balanced'],\n",
    "             'criterion':['gini','entropy']}\n",
    "\n",
    "grid = GridSearchCV(dt,param_grid=param_grid, cv = 5)\n",
    "grid.fit(X_train, y_train)\n",
    "# get importance\n",
    "importance = grid.best_estimator_.feature_importances_\n",
    "# summarize feature importance\n",
    "print('Parameter learnt during training')\n",
    "print(f\"Features importance parameter learnt during:\\n\")\n",
    "for col,val in zip(X.columns,importance):\n",
    "    print(col,\"->\",val)\n",
    "    \n",
    "print(f\"\\nDecisionTree hyperparameters optimized during training:\\n:{grid.best_params_}\")"
   ]
  },
  {
   "cell_type": "code",
   "execution_count": null,
   "id": "0c003af4-6c6a-4639-93f5-ef901c0c3197",
   "metadata": {},
   "outputs": [],
   "source": []
  },
  {
   "cell_type": "code",
   "execution_count": null,
   "id": "39c6f7ab-5e0f-4c12-9929-14cbb25c5744",
   "metadata": {},
   "outputs": [],
   "source": []
  },
  {
   "cell_type": "markdown",
   "id": "2b39cc21-5ef6-4ac5-82d1-5babfdb87e6d",
   "metadata": {},
   "source": [
    "##### 2. Prove that Elastic net can be used as either LASSO or Ridge regulariser"
   ]
  },
  {
   "cell_type": "markdown",
   "id": "f694a5de-657d-453f-a520-95442fb3d2f1",
   "metadata": {},
   "source": [
    "Elastic net is a popular type of regularized linear regression that combines two popular penalties, specifically the L1 and L2 penalty functions."
   ]
  },
  {
   "cell_type": "markdown",
   "id": "c8bd23d4-729d-45b5-b08c-3c170e824487",
   "metadata": {},
   "source": [
    "With a single input variable, this relationship is a line, and with higher dimensions, this relationship can be thought of as a hyperplane that connects the input variables to the target variable. The coefficients of the model are found via an optimization process that seeks to minimize the sum squared error between the predictions (yhat) and the expected target values (y).\n",
    "\n",
    "loss = sum i=0 to n (y_i – yhat_i)^2<br>\n",
    "A problem with linear regression is that estimated coefficients of the model can become large, making the model sensitive to inputs and possibly unstable. This is particularly true for problems with few observations (samples) or more samples (n) than input predictors (p) or variables (so-called p >> n problems).<br>\n",
    "\n",
    "One approach to addressing the stability of regression models is to change the loss function to include additional costs for a model that has large coefficients. Linear regression models that use these modified loss functions during training are referred to collectively as penalized linear regression.<br>\n",
    "\n",
    "One popular penalty is to penalize a model based on the sum of the squared coefficient values. This is called an L2 penalty. An L2 penalty minimizes the size of all coefficients, although it prevents any coefficients from being removed from the model.<br>\n",
    "\n",
    "l2_penalty = sum j=0 to p beta_j^2<br>\n",
    "Another popular penalty is to penalize a model based on the sum of the absolute coefficient values. This is called the L1 penalty. An L1 penalty minimizes the size of all coefficients and allows some coefficients to be minimized to the value zero, which removes the predictor from the model.<br>\n",
    "\n",
    "l1_penalty = sum j=0 to p abs(beta_j)<br>\n",
    "Elastic net is a penalized linear regression model that includes both the L1 and L2 penalties during training."
   ]
  },
  {
   "cell_type": "markdown",
   "id": "9a8dcfda-ff2e-4882-8205-76e6ead424bd",
   "metadata": {},
   "source": [
    "Elastic net has two parameters alpha and l1_ratio.<br>Elastic net is basically a combination of both L1 and L2 regularization<br> So it uses both L1 and L2 penality term<br>We need to define alpha and l1_ratio while defining the model. Alpha and l1_ratio are the parameters which you can set accordingly if you wish to control the L1 and L2 penalty separately."
   ]
  },
  {
   "cell_type": "markdown",
   "id": "1c1a1d01-8c11-4bfa-bd18-eab8a5cdc651",
   "metadata": {},
   "source": [
    "Actually, we have\n",
    "\n",
    "Alpha = a + b           and     l1_ratio =  a / (a+b)\n",
    "\n",
    "where, a and b weights assigned to L1 and L2 term respectively. So when we change the values of alpha and l1_ratio, a and b are set aaccordingly such that they control trade off between L1 and L2 as:\n",
    "\n",
    "a * (L1 term) + b* (L2 term)\n",
    "\n",
    "Let alpha (or a+b) = 1, and now consider the following cases:\n",
    "\n",
    "If l1_ratio =1, therefore if we look at the formula of l1_ratio, we can see that l1_ratio can only be equal to 1 if a=1, which implies b=0. Therefore, it will be a lasso penalty.<br>\n",
    "Similarly if l1_ratio = 0, implies a=0. Then the penalty will be a ridge penalty.<br>\n",
    "For l1_ratio between 0 and 1, the penalty is the combination of ridge and lasso."
   ]
  },
  {
   "cell_type": "markdown",
   "id": "e27c95ba-15e0-4b1b-9caa-22455204dbde",
   "metadata": {},
   "source": [
    "Now we implement Elastic Net & Lasso regresion separately on same dataset by controlling the l1_ratio value and check if it is giving same results or not"
   ]
  },
  {
   "cell_type": "code",
   "execution_count": null,
   "id": "d87a0518-b385-4b00-8ebe-93a73dd932c5",
   "metadata": {},
   "outputs": [],
   "source": []
  },
  {
   "cell_type": "code",
   "execution_count": 9,
   "id": "379f7008-b736-4804-bffb-22f5a1683a9d",
   "metadata": {},
   "outputs": [
    {
     "data": {
      "text/html": [
       "<div>\n",
       "<style scoped>\n",
       "    .dataframe tbody tr th:only-of-type {\n",
       "        vertical-align: middle;\n",
       "    }\n",
       "\n",
       "    .dataframe tbody tr th {\n",
       "        vertical-align: top;\n",
       "    }\n",
       "\n",
       "    .dataframe thead th {\n",
       "        text-align: right;\n",
       "    }\n",
       "</style>\n",
       "<table border=\"1\" class=\"dataframe\">\n",
       "  <thead>\n",
       "    <tr style=\"text-align: right;\">\n",
       "      <th></th>\n",
       "      <th>0</th>\n",
       "      <th>1</th>\n",
       "      <th>2</th>\n",
       "      <th>3</th>\n",
       "      <th>4</th>\n",
       "      <th>5</th>\n",
       "      <th>6</th>\n",
       "      <th>7</th>\n",
       "      <th>8</th>\n",
       "      <th>9</th>\n",
       "      <th>10</th>\n",
       "      <th>11</th>\n",
       "      <th>12</th>\n",
       "      <th>target_price</th>\n",
       "    </tr>\n",
       "  </thead>\n",
       "  <tbody>\n",
       "    <tr>\n",
       "      <th>0</th>\n",
       "      <td>0.00632</td>\n",
       "      <td>18.0</td>\n",
       "      <td>2.31</td>\n",
       "      <td>0.0</td>\n",
       "      <td>0.538</td>\n",
       "      <td>6.575</td>\n",
       "      <td>65.2</td>\n",
       "      <td>4.0900</td>\n",
       "      <td>1.0</td>\n",
       "      <td>296.0</td>\n",
       "      <td>15.3</td>\n",
       "      <td>396.90</td>\n",
       "      <td>4.98</td>\n",
       "      <td>24.0</td>\n",
       "    </tr>\n",
       "    <tr>\n",
       "      <th>1</th>\n",
       "      <td>0.02731</td>\n",
       "      <td>0.0</td>\n",
       "      <td>7.07</td>\n",
       "      <td>0.0</td>\n",
       "      <td>0.469</td>\n",
       "      <td>6.421</td>\n",
       "      <td>78.9</td>\n",
       "      <td>4.9671</td>\n",
       "      <td>2.0</td>\n",
       "      <td>242.0</td>\n",
       "      <td>17.8</td>\n",
       "      <td>396.90</td>\n",
       "      <td>9.14</td>\n",
       "      <td>21.6</td>\n",
       "    </tr>\n",
       "    <tr>\n",
       "      <th>2</th>\n",
       "      <td>0.02729</td>\n",
       "      <td>0.0</td>\n",
       "      <td>7.07</td>\n",
       "      <td>0.0</td>\n",
       "      <td>0.469</td>\n",
       "      <td>7.185</td>\n",
       "      <td>61.1</td>\n",
       "      <td>4.9671</td>\n",
       "      <td>2.0</td>\n",
       "      <td>242.0</td>\n",
       "      <td>17.8</td>\n",
       "      <td>392.83</td>\n",
       "      <td>4.03</td>\n",
       "      <td>34.7</td>\n",
       "    </tr>\n",
       "    <tr>\n",
       "      <th>3</th>\n",
       "      <td>0.03237</td>\n",
       "      <td>0.0</td>\n",
       "      <td>2.18</td>\n",
       "      <td>0.0</td>\n",
       "      <td>0.458</td>\n",
       "      <td>6.998</td>\n",
       "      <td>45.8</td>\n",
       "      <td>6.0622</td>\n",
       "      <td>3.0</td>\n",
       "      <td>222.0</td>\n",
       "      <td>18.7</td>\n",
       "      <td>394.63</td>\n",
       "      <td>2.94</td>\n",
       "      <td>33.4</td>\n",
       "    </tr>\n",
       "    <tr>\n",
       "      <th>4</th>\n",
       "      <td>0.06905</td>\n",
       "      <td>0.0</td>\n",
       "      <td>2.18</td>\n",
       "      <td>0.0</td>\n",
       "      <td>0.458</td>\n",
       "      <td>7.147</td>\n",
       "      <td>54.2</td>\n",
       "      <td>6.0622</td>\n",
       "      <td>3.0</td>\n",
       "      <td>222.0</td>\n",
       "      <td>18.7</td>\n",
       "      <td>396.90</td>\n",
       "      <td>5.33</td>\n",
       "      <td>36.2</td>\n",
       "    </tr>\n",
       "  </tbody>\n",
       "</table>\n",
       "</div>"
      ],
      "text/plain": [
       "         0     1     2    3      4      5     6       7    8      9    10  \\\n",
       "0  0.00632  18.0  2.31  0.0  0.538  6.575  65.2  4.0900  1.0  296.0  15.3   \n",
       "1  0.02731   0.0  7.07  0.0  0.469  6.421  78.9  4.9671  2.0  242.0  17.8   \n",
       "2  0.02729   0.0  7.07  0.0  0.469  7.185  61.1  4.9671  2.0  242.0  17.8   \n",
       "3  0.03237   0.0  2.18  0.0  0.458  6.998  45.8  6.0622  3.0  222.0  18.7   \n",
       "4  0.06905   0.0  2.18  0.0  0.458  7.147  54.2  6.0622  3.0  222.0  18.7   \n",
       "\n",
       "       11    12  target_price  \n",
       "0  396.90  4.98          24.0  \n",
       "1  396.90  9.14          21.6  \n",
       "2  392.83  4.03          34.7  \n",
       "3  394.63  2.94          33.4  \n",
       "4  396.90  5.33          36.2  "
      ]
     },
     "execution_count": 9,
     "metadata": {},
     "output_type": "execute_result"
    }
   ],
   "source": [
    "# datasets.load_boston()\n",
    "import warnings\n",
    "from sklearn.datasets import load_boston\n",
    "import warnings\n",
    "warnings.simplefilter('ignore')\n",
    "\n",
    "X, y = load_boston(return_X_y=True)\n",
    "df = pd.DataFrame(data = X)\n",
    "df.head()\n",
    "df['target_price'] = y\n",
    "df.head()"
   ]
  },
  {
   "cell_type": "code",
   "execution_count": 10,
   "id": "85edd959-ff98-47a1-aaca-3b9177611985",
   "metadata": {},
   "outputs": [
    {
     "name": "stdout",
     "output_type": "stream",
     "text": [
      "R2_score using Lasso: 0.6825842212709925\n",
      "\n",
      "Coeficients of predictor variables using Lasso Regression:\n",
      "[-0.06343729  0.04916467 -0.          0.         -0.          0.9498107\n",
      "  0.02090951 -0.66879     0.26420643 -0.01521159 -0.72296636  0.00824703\n",
      " -0.76111454]\n",
      "\n",
      "Intercept using Lasso Regression:\n",
      "41.056933744993366\n"
     ]
    }
   ],
   "source": [
    "# Implementing Lasso regression\n",
    "lass = Lasso(random_state=1)\n",
    "lass.fit(X,y)\n",
    "print(f\"R2_score using Lasso: {lass.score(X,y)}\\n\")\n",
    "print(f\"Coeficients of predictor variables using Lasso Regression:\\n{lass.coef_}\\n\")\n",
    "print(f\"Intercept using Lasso Regression:\\n{lass.intercept_}\")"
   ]
  },
  {
   "cell_type": "code",
   "execution_count": 11,
   "id": "019f47b5-b7dd-42dc-916f-a59af8666429",
   "metadata": {},
   "outputs": [
    {
     "name": "stdout",
     "output_type": "stream",
     "text": [
      "R2_score using ElasticNet: 0.6825842212709925\n",
      "\n",
      "Coeficients of predictor variables using ElasticNet Regression with l1_ratio 1:\n",
      "[-0.06343729  0.04916467 -0.          0.         -0.          0.9498107\n",
      "  0.02090951 -0.66879     0.26420643 -0.01521159 -0.72296636  0.00824703\n",
      " -0.76111454]\n",
      "\n",
      "Intercept using using ElasticNet Regression with l1_ratio 1:\n",
      "41.056933744993366\n"
     ]
    }
   ],
   "source": [
    "# Implementing ElasticNet regression with l1_ratio = 1\n",
    "elas_net_lasso = ElasticNet(random_state=1,l1_ratio=1)\n",
    "elas_net_lasso.fit(X,y)\n",
    "print(f\"R2_score using ElasticNet: {elas_net_lasso.score(X,y)}\\n\")\n",
    "print(f\"Coeficients of predictor variables using ElasticNet Regression with l1_ratio 1:\\n{elas_net_lasso.coef_}\\n\")\n",
    "print(f\"Intercept using using ElasticNet Regression with l1_ratio 1:\\n{elas_net_lasso.intercept_}\")"
   ]
  },
  {
   "cell_type": "code",
   "execution_count": 12,
   "id": "be28dd48-62d4-4507-bffd-519fac29e131",
   "metadata": {},
   "outputs": [
    {
     "name": "stdout",
     "output_type": "stream",
     "text": [
      "R2_score of Lasso & ElasticNet with l1_ratio 1:True\n",
      "R2_score of Lasso ->0.6825842212709925\n",
      "R2_score of ElasticNet with l1_ratio 1->0.6825842212709925\n",
      "\n",
      "Coefficients of ElasticNet with l1_ratio 1 & Coefficients of Lasso ->\n",
      "[ True  True  True  True  True  True  True  True  True  True  True  True\n",
      "  True]\n",
      "Coefficients of ElasticNet with l1_ratio 1 ->\n",
      "[-0.06343729  0.04916467 -0.          0.         -0.          0.9498107\n",
      "  0.02090951 -0.66879     0.26420643 -0.01521159 -0.72296636  0.00824703\n",
      " -0.76111454]\n",
      "Coefficients of  of Lasso ->\n",
      "[-0.06343729  0.04916467 -0.          0.         -0.          0.9498107\n",
      "  0.02090951 -0.66879     0.26420643 -0.01521159 -0.72296636  0.00824703\n",
      " -0.76111454]\n"
     ]
    }
   ],
   "source": [
    "print(f\"R2_score of Lasso & ElasticNet with l1_ratio 1:{lass.score(X,y) == elas_net_lasso.score(X,y)}\")\n",
    "print(f\"R2_score of Lasso ->{lass.score(X,y)}\")\n",
    "print(f\"R2_score of ElasticNet with l1_ratio 1->{elas_net_lasso.score(X,y)}\\n\")\n",
    "print(f\"Coefficients of ElasticNet with l1_ratio 1 & Coefficients of Lasso ->\\n{lass.coef_ == elas_net_lasso.coef_}\")\n",
    "print(f\"Coefficients of ElasticNet with l1_ratio 1 ->\\n{elas_net_lasso.coef_}\")\n",
    "print(f\"Coefficients of  of Lasso ->\\n{lass.coef_}\")"
   ]
  },
  {
   "cell_type": "markdown",
   "id": "90577c52-aba0-49c0-ac3b-fdc7126ee17e",
   "metadata": {},
   "source": [
    "By Controlling the l1_ratio parameter, ElasticNet can be used as Lasso or Ridge Regression"
   ]
  },
  {
   "cell_type": "markdown",
   "id": "de269ff6-015c-458b-bb85-1a3df4925cc3",
   "metadata": {},
   "source": [
    "<br>"
   ]
  },
  {
   "cell_type": "markdown",
   "id": "ea6dc1c2-6038-425c-b1ee-4d4a7c0a292e",
   "metadata": {},
   "source": [
    "<br>"
   ]
  },
  {
   "cell_type": "markdown",
   "id": "06d0cfc6-3e6b-4be0-8179-21837722ed87",
   "metadata": {},
   "source": [
    "**Background**"
   ]
  },
  {
   "cell_type": "markdown",
   "id": "f55450ae-a02d-4cd9-a5f3-cf00dd0e55f4",
   "metadata": {},
   "source": [
    "The recently started human and other genome projects are likely to change the situation of molecular biology. Comprehensive analyses of whole genomic sequences will enable us to understand the general mechanisms of how protein and nucleic acid functions are encoded in the sequence data"
   ]
  },
  {
   "cell_type": "markdown",
   "id": "20b10eef-e59a-47da-9ec2-98367d4b9d61",
   "metadata": {},
   "source": [
    "**Dataset filename**:yeast2vs4.csv"
   ]
  },
  {
   "cell_type": "markdown",
   "id": "8a14eafc-86f8-40a5-ad85-ea4818cea706",
   "metadata": {},
   "source": [
    "**Dataset description** There are 8 features and one target in the dataset. All the features are in a numerical format, and the target is in text format."
   ]
  },
  {
   "cell_type": "markdown",
   "id": "2990710c-7ab5-4bd4-b016-ca1d75f32788",
   "metadata": {},
   "source": [
    "<br>"
   ]
  },
  {
   "cell_type": "markdown",
   "id": "678acce6-7299-4cce-bfb9-a1c1349fe7d6",
   "metadata": {},
   "source": [
    "**3. Analyse the importance of the features for predicting presence or absence of protein using two different approaches. Explain the similarity/difference between outcomes**"
   ]
  },
  {
   "cell_type": "markdown",
   "id": "b037a26f-0c0c-446c-a3c9-bbdeff50f2a1",
   "metadata": {},
   "source": [
    "**Feature importance** refers to techniques that assign a score to input features based on how useful they are at predicting a target variable<br>There are many types and sources of feature importance scores, although popular examples include statistical correlation scores, coefficients calculated as part of linear models, decision trees, and permutation importance scores.<br>Feature importance scores play an important role in a predictive modeling project, including providing insight into the data, insight into the model, and the basis for dimensionality reduction and feature selection that can improve the efficiency and effectiveness of a predictive model on the problem."
   ]
  },
  {
   "cell_type": "markdown",
   "id": "75104409-2a74-4aaa-8f97-3ef5a7269b42",
   "metadata": {},
   "source": [
    "Feature importance refers to a class of techniques for assigning scores to input features to a predictive model that indicates the relative importance of each feature when making a prediction."
   ]
  },
  {
   "cell_type": "markdown",
   "id": "3bb74f1c-1923-465d-b942-ee51d50a637d",
   "metadata": {},
   "source": [
    "Feature importance scores can be calculated for problems that involve predicting a numerical value, called regression, and those problems that involve predicting a class label, called classification."
   ]
  },
  {
   "cell_type": "markdown",
   "id": "01a1e245-45f8-46cd-bb39-8d8ee40c7e9f",
   "metadata": {},
   "source": [
    "**Feature importance scores can provide insight into the dataset.** The relative scores can highlight which features may be most relevant to the target, and the converse, which features are the least relevant. This may be interpreted by a domain expert and could be used as the basis for gathering more or different data."
   ]
  },
  {
   "cell_type": "markdown",
   "id": "e87c97b5-83a5-496f-98ee-88b516d50fb5",
   "metadata": {},
   "source": [
    "**Feature importance scores can provide insight into the model.** Most importance scores are calculated by a predictive model that has been fit on the dataset. Inspecting the importance score provides insight into that specific model and which features are the most important and least important to the model when making a prediction. This is a type of model interpretation that can be performed for those models that support it.<br>\n",
    "\n",
    "**Feature importance can be used to improve a predictive model.** This can be achieved by using the importance scores to select those features to delete (lowest scores) or those features to keep (highest scores). This is a type of feature selection and can simplify the problem that is being modeled, speed up the modeling process (deleting features is called dimensionality reduction), and in some cases, improve the performance of the model."
   ]
  },
  {
   "cell_type": "markdown",
   "id": "663a995a-9b54-4cb5-be78-0e185b934941",
   "metadata": {},
   "source": [
    "We will look at two main types of  feature importance; they are:<br>\n",
    "\n",
    "**Feature importance from model coefficients.**<br>\n",
    "**Feature importance from decision trees**<br><br>"
   ]
  },
  {
   "cell_type": "markdown",
   "id": "7fd7d219-0a2f-4ce3-8458-786d62dd05d3",
   "metadata": {},
   "source": [
    "**Coefficients as Feature Importance**<br>Linear machine learning algorithms fit a model where the prediction is the weighted sum of the input values.\n",
    "\n",
    "Examples include linear regression, logistic regression, and extensions that add regularization, such as ridge regression and the elastic net.\n",
    "\n",
    "All of these algorithms find a set of coefficients to use in the weighted sum in order to make a prediction. These coefficients can be used directly as a crude type of feature importance score.\n",
    "\n",
    "Let’s take a  look at using coefficients as feature importance for classification . We will fit a model on the dataset to find the coefficients, then summarize the importance scores for each input feature and finally create a bar chart to get an idea of the relative importance of the features."
   ]
  },
  {
   "cell_type": "markdown",
   "id": "cf3160e1-3231-417e-8c8b-e721daebd014",
   "metadata": {},
   "source": [
    "**Logistic Regression Feature Importance**<br>\n",
    "We can fit a LogisticRegression model on the regression dataset and retrieve the coeff_ property that contains the coefficients found for each input variable.\n",
    "\n",
    "These coefficients can provide the basis for a crude feature importance score. This assumes that the input variables have the same scale or have been scaled prior to fitting a model.\n"
   ]
  },
  {
   "cell_type": "markdown",
   "id": "e53ebd10-986c-4185-993c-1105f987d8c7",
   "metadata": {},
   "source": [
    "<br>"
   ]
  },
  {
   "cell_type": "markdown",
   "id": "639da778-81c1-4566-b021-e938363a2a3b",
   "metadata": {},
   "source": [
    "**Univariate Analysis**<br>\n",
    "Uni means one and variate means variable, so in univariate analysis, there is only one dependable variable. The objective of univariate analysis is to derive the data, define and summarize it, and analyze the pattern present in it. In a dataset, it explores each variable separately. It is possible for two kinds of variables- Categorical and Numerical.\n",
    "\n",
    "Some patterns that can be easily identified with univariate analysis are Central Tendency (mean, mode and median), Dispersion (range, variance), Quartiles (interquartile range), and Standard deviation."
   ]
  },
  {
   "cell_type": "markdown",
   "id": "2b4211c2-28d1-45fc-9fce-fb393176c1db",
   "metadata": {},
   "source": [
    "**Bivariate Analysis**<br>\n",
    "Bi means two and variate means variable, so here there are two variables. The analysis is related to cause and the relationship between the two variables"
   ]
  },
  {
   "cell_type": "markdown",
   "id": "c26ffed1-c196-4116-bd4c-c9d9b7e675f6",
   "metadata": {},
   "source": [
    "<br>"
   ]
  },
  {
   "cell_type": "code",
   "execution_count": 13,
   "id": "27ccfa1c-1234-49e6-91de-2cec1d0d6007",
   "metadata": {},
   "outputs": [
    {
     "data": {
      "text/html": [
       "<div>\n",
       "<style scoped>\n",
       "    .dataframe tbody tr th:only-of-type {\n",
       "        vertical-align: middle;\n",
       "    }\n",
       "\n",
       "    .dataframe tbody tr th {\n",
       "        vertical-align: top;\n",
       "    }\n",
       "\n",
       "    .dataframe thead th {\n",
       "        text-align: right;\n",
       "    }\n",
       "</style>\n",
       "<table border=\"1\" class=\"dataframe\">\n",
       "  <thead>\n",
       "    <tr style=\"text-align: right;\">\n",
       "      <th></th>\n",
       "      <th>mcg</th>\n",
       "      <th>gvh</th>\n",
       "      <th>alm</th>\n",
       "      <th>mit</th>\n",
       "      <th>erl</th>\n",
       "      <th>pox</th>\n",
       "      <th>vac</th>\n",
       "      <th>nuc</th>\n",
       "      <th>class</th>\n",
       "    </tr>\n",
       "  </thead>\n",
       "  <tbody>\n",
       "    <tr>\n",
       "      <th>0</th>\n",
       "      <td>0.51</td>\n",
       "      <td>0.40</td>\n",
       "      <td>0.56</td>\n",
       "      <td>0.17</td>\n",
       "      <td>0.5</td>\n",
       "      <td>0.5</td>\n",
       "      <td>0.49</td>\n",
       "      <td>0.22</td>\n",
       "      <td>negative</td>\n",
       "    </tr>\n",
       "    <tr>\n",
       "      <th>1</th>\n",
       "      <td>0.40</td>\n",
       "      <td>0.39</td>\n",
       "      <td>0.60</td>\n",
       "      <td>0.15</td>\n",
       "      <td>0.5</td>\n",
       "      <td>0.0</td>\n",
       "      <td>0.58</td>\n",
       "      <td>0.30</td>\n",
       "      <td>negative</td>\n",
       "    </tr>\n",
       "    <tr>\n",
       "      <th>2</th>\n",
       "      <td>0.40</td>\n",
       "      <td>0.42</td>\n",
       "      <td>0.57</td>\n",
       "      <td>0.35</td>\n",
       "      <td>0.5</td>\n",
       "      <td>0.0</td>\n",
       "      <td>0.53</td>\n",
       "      <td>0.25</td>\n",
       "      <td>negative</td>\n",
       "    </tr>\n",
       "    <tr>\n",
       "      <th>3</th>\n",
       "      <td>0.46</td>\n",
       "      <td>0.44</td>\n",
       "      <td>0.52</td>\n",
       "      <td>0.11</td>\n",
       "      <td>0.5</td>\n",
       "      <td>0.0</td>\n",
       "      <td>0.50</td>\n",
       "      <td>0.22</td>\n",
       "      <td>negative</td>\n",
       "    </tr>\n",
       "    <tr>\n",
       "      <th>4</th>\n",
       "      <td>0.47</td>\n",
       "      <td>0.39</td>\n",
       "      <td>0.50</td>\n",
       "      <td>0.11</td>\n",
       "      <td>0.5</td>\n",
       "      <td>0.0</td>\n",
       "      <td>0.49</td>\n",
       "      <td>0.40</td>\n",
       "      <td>negative</td>\n",
       "    </tr>\n",
       "  </tbody>\n",
       "</table>\n",
       "</div>"
      ],
      "text/plain": [
       "    mcg   gvh   alm   mit  erl  pox   vac   nuc     class\n",
       "0  0.51  0.40  0.56  0.17  0.5  0.5  0.49  0.22  negative\n",
       "1  0.40  0.39  0.60  0.15  0.5  0.0  0.58  0.30  negative\n",
       "2  0.40  0.42  0.57  0.35  0.5  0.0  0.53  0.25  negative\n",
       "3  0.46  0.44  0.52  0.11  0.5  0.0  0.50  0.22  negative\n",
       "4  0.47  0.39  0.50  0.11  0.5  0.0  0.49  0.40  negative"
      ]
     },
     "execution_count": 13,
     "metadata": {},
     "output_type": "execute_result"
    }
   ],
   "source": [
    "df = pd.read_csv('yeast2vs4.csv')\n",
    "df.head()"
   ]
  },
  {
   "cell_type": "code",
   "execution_count": 14,
   "id": "d3201a12-45ec-4477-b743-8d962ef9fc24",
   "metadata": {},
   "outputs": [
    {
     "data": {
      "text/html": [
       "<div>\n",
       "<style scoped>\n",
       "    .dataframe tbody tr th:only-of-type {\n",
       "        vertical-align: middle;\n",
       "    }\n",
       "\n",
       "    .dataframe tbody tr th {\n",
       "        vertical-align: top;\n",
       "    }\n",
       "\n",
       "    .dataframe thead th {\n",
       "        text-align: right;\n",
       "    }\n",
       "</style>\n",
       "<table border=\"1\" class=\"dataframe\">\n",
       "  <thead>\n",
       "    <tr style=\"text-align: right;\">\n",
       "      <th></th>\n",
       "      <th>mcg</th>\n",
       "      <th>gvh</th>\n",
       "      <th>alm</th>\n",
       "      <th>mit</th>\n",
       "      <th>erl</th>\n",
       "      <th>pox</th>\n",
       "      <th>vac</th>\n",
       "      <th>nuc</th>\n",
       "      <th>class</th>\n",
       "    </tr>\n",
       "  </thead>\n",
       "  <tbody>\n",
       "    <tr>\n",
       "      <th>0</th>\n",
       "      <td>0.51</td>\n",
       "      <td>0.40</td>\n",
       "      <td>0.56</td>\n",
       "      <td>0.17</td>\n",
       "      <td>0.5</td>\n",
       "      <td>0.5</td>\n",
       "      <td>0.49</td>\n",
       "      <td>0.22</td>\n",
       "      <td>0</td>\n",
       "    </tr>\n",
       "    <tr>\n",
       "      <th>1</th>\n",
       "      <td>0.40</td>\n",
       "      <td>0.39</td>\n",
       "      <td>0.60</td>\n",
       "      <td>0.15</td>\n",
       "      <td>0.5</td>\n",
       "      <td>0.0</td>\n",
       "      <td>0.58</td>\n",
       "      <td>0.30</td>\n",
       "      <td>0</td>\n",
       "    </tr>\n",
       "    <tr>\n",
       "      <th>2</th>\n",
       "      <td>0.40</td>\n",
       "      <td>0.42</td>\n",
       "      <td>0.57</td>\n",
       "      <td>0.35</td>\n",
       "      <td>0.5</td>\n",
       "      <td>0.0</td>\n",
       "      <td>0.53</td>\n",
       "      <td>0.25</td>\n",
       "      <td>0</td>\n",
       "    </tr>\n",
       "    <tr>\n",
       "      <th>3</th>\n",
       "      <td>0.46</td>\n",
       "      <td>0.44</td>\n",
       "      <td>0.52</td>\n",
       "      <td>0.11</td>\n",
       "      <td>0.5</td>\n",
       "      <td>0.0</td>\n",
       "      <td>0.50</td>\n",
       "      <td>0.22</td>\n",
       "      <td>0</td>\n",
       "    </tr>\n",
       "    <tr>\n",
       "      <th>4</th>\n",
       "      <td>0.47</td>\n",
       "      <td>0.39</td>\n",
       "      <td>0.50</td>\n",
       "      <td>0.11</td>\n",
       "      <td>0.5</td>\n",
       "      <td>0.0</td>\n",
       "      <td>0.49</td>\n",
       "      <td>0.40</td>\n",
       "      <td>0</td>\n",
       "    </tr>\n",
       "  </tbody>\n",
       "</table>\n",
       "</div>"
      ],
      "text/plain": [
       "    mcg   gvh   alm   mit  erl  pox   vac   nuc  class\n",
       "0  0.51  0.40  0.56  0.17  0.5  0.5  0.49  0.22      0\n",
       "1  0.40  0.39  0.60  0.15  0.5  0.0  0.58  0.30      0\n",
       "2  0.40  0.42  0.57  0.35  0.5  0.0  0.53  0.25      0\n",
       "3  0.46  0.44  0.52  0.11  0.5  0.0  0.50  0.22      0\n",
       "4  0.47  0.39  0.50  0.11  0.5  0.0  0.49  0.40      0"
      ]
     },
     "execution_count": 14,
     "metadata": {},
     "output_type": "execute_result"
    }
   ],
   "source": [
    "def class_target(val):\n",
    "    if val == 'negative':\n",
    "        return 0\n",
    "    else:\n",
    "        return 1\n",
    "df['class'] = df['class'].apply(class_target)\n",
    "df.head()"
   ]
  },
  {
   "cell_type": "markdown",
   "id": "16dd34f2-f6a8-4463-8cd0-9b1104e7f5d5",
   "metadata": {},
   "source": [
    "Checking different features for **univariate analysis with their distributions**"
   ]
  },
  {
   "cell_type": "code",
   "execution_count": 15,
   "id": "a9b612d1-41c7-4b76-abdd-0f923a7b5882",
   "metadata": {},
   "outputs": [
    {
     "data": {
      "text/plain": [
       "<Axes: xlabel='mcg', ylabel='Count'>"
      ]
     },
     "execution_count": 15,
     "metadata": {},
     "output_type": "execute_result"
    },
    {
     "data": {
      "image/png": "[encoded data removed]",
      "text/plain": [
       "<Figure size 640x480 with 1 Axes>"
      ]
     },
     "metadata": {},
     "output_type": "display_data"
    }
   ],
   "source": [
    "sns.histplot(data = df,x = 'mcg')"
   ]
  },
  {
   "cell_type": "code",
   "execution_count": 16,
   "id": "63810d87-8007-4fed-9371-8301f96f4314",
   "metadata": {},
   "outputs": [
    {
     "data": {
      "text/plain": [
       "<Axes: xlabel='gvh', ylabel='Count'>"
      ]
     },
     "execution_count": 16,
     "metadata": {},
     "output_type": "execute_result"
    },
    {
     "data": {
      "image/png": "[encoded data removed]",
      "text/plain": [
       "<Figure size 640x480 with 1 Axes>"
      ]
     },
     "metadata": {},
     "output_type": "display_data"
    }
   ],
   "source": [
    "sns.histplot(data = df,x = 'gvh')"
   ]
  },
  {
   "cell_type": "code",
   "execution_count": 17,
   "id": "0f6ff038-6927-4d8b-a5cd-0d1dcee79ba6",
   "metadata": {},
   "outputs": [
    {
     "data": {
      "text/plain": [
       "<Axes: xlabel='alm', ylabel='Count'>"
      ]
     },
     "execution_count": 17,
     "metadata": {},
     "output_type": "execute_result"
    },
    {
     "data": {
      "image/png": "[encoded data removed]",
      "text/plain": [
       "<Figure size 640x480 with 1 Axes>"
      ]
     },
     "metadata": {},
     "output_type": "display_data"
    }
   ],
   "source": [
    "sns.histplot(data = df,x = 'alm')"
   ]
  },
  {
   "cell_type": "code",
   "execution_count": 18,
   "id": "3e9602c5-231d-4f8b-b08a-06c9243deaf5",
   "metadata": {},
   "outputs": [
    {
     "data": {
      "text/plain": [
       "<Axes: xlabel='mit', ylabel='Count'>"
      ]
     },
     "execution_count": 18,
     "metadata": {},
     "output_type": "execute_result"
    },
    {
     "data": {
      "image/png": "[encoded data removed]",
      "text/plain": [
       "<Figure size 640x480 with 1 Axes>"
      ]
     },
     "metadata": {},
     "output_type": "display_data"
    }
   ],
   "source": [
    "sns.histplot(data = df,x = 'mit')"
   ]
  },
  {
   "cell_type": "code",
   "execution_count": 19,
   "id": "efbaa03b-8d01-44bd-b26e-71bc1896464d",
   "metadata": {},
   "outputs": [
    {
     "data": {
      "text/plain": [
       "<Axes: xlabel='nuc', ylabel='Count'>"
      ]
     },
     "execution_count": 19,
     "metadata": {},
     "output_type": "execute_result"
    },
    {
     "data": {
      "image/png": "[encoded data removed]",
      "text/plain": [
       "<Figure size 640x480 with 1 Axes>"
      ]
     },
     "metadata": {},
     "output_type": "display_data"
    }
   ],
   "source": [
    "sns.histplot(data = df,x = 'nuc')"
   ]
  },
  {
   "cell_type": "markdown",
   "id": "f3eb9764-63ed-489a-bd1c-95789336c632",
   "metadata": {},
   "source": [
    "Above plots shows that most features are following normal distribution"
   ]
  },
  {
   "cell_type": "markdown",
   "id": "13062caa-d6db-4f40-8a11-a8625376d837",
   "metadata": {},
   "source": [
    "<br>"
   ]
  },
  {
   "cell_type": "markdown",
   "id": "1987e900-b17d-4be5-befa-ffe391f40c3a",
   "metadata": {},
   "source": [
    "Checking a correlation plot using heatmap to check correlation among features and target variable"
   ]
  },
  {
   "cell_type": "code",
   "execution_count": 20,
   "id": "edf6238b-33b7-4734-8da9-285e33a04092",
   "metadata": {},
   "outputs": [
    {
     "data": {
      "image/png": "[encoded data removed]",
      "text/plain": [
       "<Figure size 1200x600 with 2 Axes>"
      ]
     },
     "metadata": {},
     "output_type": "display_data"
    }
   ],
   "source": [
    "# sns.pairplot(df)\n",
    "plt.figure(figsize = (12,6))\n",
    "sns.heatmap(df.corr(),annot = True)\n",
    "plt.show()"
   ]
  },
  {
   "cell_type": "code",
   "execution_count": 21,
   "id": "862c72b3-daf1-467c-9bd1-df82ab38e34c",
   "metadata": {},
   "outputs": [
    {
     "data": {
      "text/plain": [
       "LogisticRegression()"
      ]
     },
     "execution_count": 21,
     "metadata": {},
     "output_type": "execute_result"
    }
   ],
   "source": [
    "X = df.drop('class',axis = 1)\n",
    "y = df['class']\n",
    "\n",
    "logit = LogisticRegression()\n",
    "logit.fit(X,y)"
   ]
  },
  {
   "cell_type": "code",
   "execution_count": 22,
   "id": "d3aafa38-f069-4979-8a6a-c24cee29f66e",
   "metadata": {},
   "outputs": [],
   "source": [
    "importance = logit.coef_[0]"
   ]
  },
  {
   "cell_type": "code",
   "execution_count": 23,
   "id": "b6a3c32b-5e34-4902-a267-23dd296e1159",
   "metadata": {},
   "outputs": [
    {
     "name": "stdout",
     "output_type": "stream",
     "text": [
      "Features with importance value:\n",
      "\n",
      "mcg -> 4.729325567115505\n",
      "gvh -> 2.445289776038172\n",
      "alm -> -3.256870321171561\n",
      "mit -> 1.0754892658969848\n",
      "erl -> 0.3264955899802425\n",
      "pox -> -0.025281621064621163\n",
      "vac -> 0.1576027820763182\n",
      "nuc -> -0.2694625861886729\n"
     ]
    }
   ],
   "source": [
    "print(f\"Features with importance value:\\n\")\n",
    "for col,val in zip(X.columns,importance):\n",
    "    print(col,\"->\",val)\n",
    "    "
   ]
  },
  {
   "cell_type": "code",
   "execution_count": 24,
   "id": "0cb69cf2-ca58-4cb9-bca8-03169a432df1",
   "metadata": {},
   "outputs": [
    {
     "data": {
      "image/png": "[encoded data removed]",
      "text/plain": [
       "<Figure size 640x480 with 1 Axes>"
      ]
     },
     "metadata": {},
     "output_type": "display_data"
    }
   ],
   "source": [
    "plt.bar([col for col in X.columns], importance)\n",
    "plt.xlabel(\"features\")\n",
    "plt.ylabel('Feature Importance score')\n",
    "plt.show()"
   ]
  },
  {
   "cell_type": "markdown",
   "id": "daf1cb55-505b-4423-8a5e-fa9ca7104969",
   "metadata": {},
   "source": [
    "The coefficients are both positive and negative. The positive scores indicate a feature that predicts class 1, whereas the negative scores indicate a feature that predicts class 0."
   ]
  },
  {
   "cell_type": "markdown",
   "id": "0ef26bcb-71e1-4614-a593-a68120d1de2c",
   "metadata": {},
   "source": [
    "<br>"
   ]
  },
  {
   "cell_type": "markdown",
   "id": "afb84ff4-2cce-46db-afe0-9676b7449e8e",
   "metadata": {},
   "source": [
    "<br>"
   ]
  },
  {
   "cell_type": "markdown",
   "id": "15475743-95f5-41e4-9d04-3b97bc667ac1",
   "metadata": {},
   "source": [
    "**Decision Tree Feature Importance**\n"
   ]
  },
  {
   "cell_type": "markdown",
   "id": "43213c49-e710-4fdc-a02d-8196df3566b8",
   "metadata": {},
   "source": [
    "Decision tree algorithms like classification and regression trees (CART) offer importance scores based on the reduction in the criterion used to select split points, like Gini or entropy.\n",
    "\n",
    "This same approach can be used for ensembles of decision trees, such as the random forest and stochastic gradient boosting algorithms."
   ]
  },
  {
   "cell_type": "markdown",
   "id": "d4b7a752-f907-446e-830a-9a45c7170edf",
   "metadata": {},
   "source": [
    "We can use the CART algorithm for feature importance implemented in scikit-learn as the DecisionTreeRegressor and DecisionTreeClassifier classes.\n",
    "\n",
    "After being fit, the model provides a feature_importances_ property that can be accessed to retrieve the relative importance scores for each input feature."
   ]
  },
  {
   "cell_type": "code",
   "execution_count": 25,
   "id": "8a23b891-d34c-4442-b8ca-760d0b2eceff",
   "metadata": {},
   "outputs": [
    {
     "name": "stdout",
     "output_type": "stream",
     "text": [
      "Features with importance value:\n",
      "\n",
      "mcg -> 0.26975338524088105\n",
      "gvh -> 0.018139725292564836\n",
      "alm -> 0.5561906153636381\n",
      "mit -> 0.046896525094601446\n",
      "erl -> 0.0\n",
      "pox -> 0.0\n",
      "vac -> 0.08634509239260861\n",
      "nuc -> 0.02267465661570604\n"
     ]
    }
   ],
   "source": [
    "dt = DecisionTreeClassifier()\n",
    "# fit the model\n",
    "dt.fit(X, y)\n",
    "# get importance\n",
    "importance = dt.feature_importances_\n",
    "# summarize feature importance\n",
    "print(f\"Features with importance value:\\n\")\n",
    "for col,val in zip(X.columns,importance):\n",
    "    print(col,\"->\",val)\n"
   ]
  },
  {
   "cell_type": "code",
   "execution_count": 26,
   "id": "d0e98866-041c-41ad-a333-6d6109b80f54",
   "metadata": {},
   "outputs": [
    {
     "data": {
      "image/png": "[encoded data removed]",
      "text/plain": [
       "<Figure size 640x480 with 1 Axes>"
      ]
     },
     "metadata": {},
     "output_type": "display_data"
    }
   ],
   "source": [
    "plt.bar([col for col in X.columns], importance)\n",
    "plt.xlabel(\"features\")\n",
    "plt.ylabel('Feature Importance score')\n",
    "plt.show()"
   ]
  },
  {
   "cell_type": "markdown",
   "id": "03413250-ac98-44d5-865d-5c3c06186523",
   "metadata": {},
   "source": [
    "**Feature Selection with Importance**<br>Feature importance scores can be used to help interpret the data, but they can also be used directly to help rank and select features that are most useful to a predictive model.\n"
   ]
  },
  {
   "cell_type": "code",
   "execution_count": 27,
   "id": "57ddda02-462b-4852-9563-8abf383f61eb",
   "metadata": {},
   "outputs": [],
   "source": [
    "# roc_auc_score"
   ]
  },
  {
   "cell_type": "code",
   "execution_count": 28,
   "id": "dc2e4a22-4b5c-4202-9861-8c4b3955355c",
   "metadata": {},
   "outputs": [
    {
     "name": "stdout",
     "output_type": "stream",
     "text": [
      "roc_auc on test with all features:\n",
      "0.8835227272727273\n"
     ]
    }
   ],
   "source": [
    "# Running decision tree with all features\n",
    "from sklearn.metrics import accuracy_score,roc_auc_score\n",
    "X_train, X_test, y_train, y_test = train_test_split(X, y, test_size=0.33, random_state=42)\n",
    "dt = DecisionTreeClassifier()\n",
    "dt.fit(X_train,y_train)\n",
    "y_pred_prob = dt.predict_proba(X_test)\n",
    "print(f\"roc_auc on test with all features:\\n{roc_auc_score(y_test,y_pred_prob[:,1])}\")"
   ]
  },
  {
   "cell_type": "markdown",
   "id": "9c38dcc0-9246-4015-9ddd-146a45db4e0a",
   "metadata": {},
   "source": [
    "From above feature importance , we remove the features having very less importance and then use these features in predicting"
   ]
  },
  {
   "cell_type": "code",
   "execution_count": 29,
   "id": "9703e65c-f176-4131-ad98-dba5b7256138",
   "metadata": {},
   "outputs": [
    {
     "name": "stdout",
     "output_type": "stream",
     "text": [
      "roc_auc on test with reduced features:\n",
      "0.9460227272727274\n"
     ]
    }
   ],
   "source": [
    "X_reduced = X[['mcg','alm','mit','vac','nuc']]\n",
    "X_train, X_test, y_train, y_test = train_test_split(X_reduced, y, test_size=0.33, random_state=42)\n",
    "dt = DecisionTreeClassifier()\n",
    "dt.fit(X_train,y_train)\n",
    "y_pred_prob = dt.predict_proba(X_test)\n",
    "print(f\"roc_auc on test with reduced features:\\n{roc_auc_score(y_test,y_pred_prob[:,1])}\")"
   ]
  },
  {
   "cell_type": "markdown",
   "id": "775fbd72-d6c0-4a07-afcf-28aa6c495611",
   "metadata": {},
   "source": [
    "roc_auc_score is improved with reduced features"
   ]
  },
  {
   "cell_type": "markdown",
   "id": "62e1322e-d4bb-48f0-b224-69f4a02b7cdd",
   "metadata": {},
   "source": [
    "<br>"
   ]
  },
  {
   "cell_type": "markdown",
   "id": "30853b79-aa2e-4e99-9b81-5d7343ae90b5",
   "metadata": {},
   "source": [
    "<br>"
   ]
  },
  {
   "cell_type": "markdown",
   "id": "228e469f-df11-4e98-b427-e05ec387e73c",
   "metadata": {},
   "source": [
    "##### 4. Create three supervised machine learning (ML) models except any ensemble approach for predicting presence or absence of protein"
   ]
  },
  {
   "cell_type": "markdown",
   "id": "e9ff242f-b764-464f-8230-e6475d4003ce",
   "metadata": {},
   "source": [
    "Here , 3 different machine learning models are created except any ensemble approch<br>They are :-<br>DecisionTreeClassifier<br>LogisticRegression<br>SupportVectorClassifier"
   ]
  },
  {
   "cell_type": "code",
   "execution_count": 30,
   "id": "8aa1fc61-6470-42e8-87ba-74b0bd1d6d38",
   "metadata": {},
   "outputs": [],
   "source": [
    "import pandas as pd\n",
    "import numpy as np\n",
    "import matplotlib.pyplot as plt\n",
    "import seaborn as sns\n",
    "from sklearn.model_selection import train_test_split,GridSearchCV,RandomizedSearchCV\n",
    "from sklearn.preprocessing import StandardScaler,MinMaxScaler\n",
    "from sklearn.linear_model import LinearRegression,LogisticRegression,Lasso,LassoCV,Ridge,RidgeCV\n",
    "from sklearn.ensemble import AdaBoostClassifier,BaggingClassifier,GradientBoostingClassifier,VotingClassifier,RandomForestClassifier\n",
    "from sklearn.svm import SVC\n",
    "from sklearn.neighbors import KNeighborsClassifier\n",
    "from sklearn.metrics import (accuracy_score,\n",
    "                             classification_report,\n",
    "                             plot_confusion_matrix,\n",
    "                             roc_auc_score,f1_score,\n",
    "                             roc_curve,precision_recall_curve,plot_precision_recall_curve,\n",
    "                             auc)\n",
    "from sklearn.tree import DecisionTreeClassifier\n",
    "from feature_engine.selection import DropConstantFeatures,DropDuplicateFeatures,DropCorrelatedFeatures"
   ]
  },
  {
   "cell_type": "code",
   "execution_count": 31,
   "id": "3e8f5166-ad36-44e1-b06e-4da73947b10a",
   "metadata": {},
   "outputs": [
    {
     "data": {
      "text/html": [
       "<div>\n",
       "<style scoped>\n",
       "    .dataframe tbody tr th:only-of-type {\n",
       "        vertical-align: middle;\n",
       "    }\n",
       "\n",
       "    .dataframe tbody tr th {\n",
       "        vertical-align: top;\n",
       "    }\n",
       "\n",
       "    .dataframe thead th {\n",
       "        text-align: right;\n",
       "    }\n",
       "</style>\n",
       "<table border=\"1\" class=\"dataframe\">\n",
       "  <thead>\n",
       "    <tr style=\"text-align: right;\">\n",
       "      <th></th>\n",
       "      <th>mcg</th>\n",
       "      <th>gvh</th>\n",
       "      <th>alm</th>\n",
       "      <th>mit</th>\n",
       "      <th>erl</th>\n",
       "      <th>pox</th>\n",
       "      <th>vac</th>\n",
       "      <th>nuc</th>\n",
       "      <th>class</th>\n",
       "    </tr>\n",
       "  </thead>\n",
       "  <tbody>\n",
       "    <tr>\n",
       "      <th>0</th>\n",
       "      <td>0.51</td>\n",
       "      <td>0.40</td>\n",
       "      <td>0.56</td>\n",
       "      <td>0.17</td>\n",
       "      <td>0.5</td>\n",
       "      <td>0.5</td>\n",
       "      <td>0.49</td>\n",
       "      <td>0.22</td>\n",
       "      <td>negative</td>\n",
       "    </tr>\n",
       "    <tr>\n",
       "      <th>1</th>\n",
       "      <td>0.40</td>\n",
       "      <td>0.39</td>\n",
       "      <td>0.60</td>\n",
       "      <td>0.15</td>\n",
       "      <td>0.5</td>\n",
       "      <td>0.0</td>\n",
       "      <td>0.58</td>\n",
       "      <td>0.30</td>\n",
       "      <td>negative</td>\n",
       "    </tr>\n",
       "    <tr>\n",
       "      <th>2</th>\n",
       "      <td>0.40</td>\n",
       "      <td>0.42</td>\n",
       "      <td>0.57</td>\n",
       "      <td>0.35</td>\n",
       "      <td>0.5</td>\n",
       "      <td>0.0</td>\n",
       "      <td>0.53</td>\n",
       "      <td>0.25</td>\n",
       "      <td>negative</td>\n",
       "    </tr>\n",
       "    <tr>\n",
       "      <th>3</th>\n",
       "      <td>0.46</td>\n",
       "      <td>0.44</td>\n",
       "      <td>0.52</td>\n",
       "      <td>0.11</td>\n",
       "      <td>0.5</td>\n",
       "      <td>0.0</td>\n",
       "      <td>0.50</td>\n",
       "      <td>0.22</td>\n",
       "      <td>negative</td>\n",
       "    </tr>\n",
       "    <tr>\n",
       "      <th>4</th>\n",
       "      <td>0.47</td>\n",
       "      <td>0.39</td>\n",
       "      <td>0.50</td>\n",
       "      <td>0.11</td>\n",
       "      <td>0.5</td>\n",
       "      <td>0.0</td>\n",
       "      <td>0.49</td>\n",
       "      <td>0.40</td>\n",
       "      <td>negative</td>\n",
       "    </tr>\n",
       "  </tbody>\n",
       "</table>\n",
       "</div>"
      ],
      "text/plain": [
       "    mcg   gvh   alm   mit  erl  pox   vac   nuc     class\n",
       "0  0.51  0.40  0.56  0.17  0.5  0.5  0.49  0.22  negative\n",
       "1  0.40  0.39  0.60  0.15  0.5  0.0  0.58  0.30  negative\n",
       "2  0.40  0.42  0.57  0.35  0.5  0.0  0.53  0.25  negative\n",
       "3  0.46  0.44  0.52  0.11  0.5  0.0  0.50  0.22  negative\n",
       "4  0.47  0.39  0.50  0.11  0.5  0.0  0.49  0.40  negative"
      ]
     },
     "execution_count": 31,
     "metadata": {},
     "output_type": "execute_result"
    }
   ],
   "source": [
    "# Loading the dataset\n",
    "df = pd.read_csv('yeast2vs4.csv')\n",
    "df.head()"
   ]
  },
  {
   "cell_type": "code",
   "execution_count": 32,
   "id": "db1ee306-5199-4c1a-b305-0deff4ba55f9",
   "metadata": {},
   "outputs": [
    {
     "data": {
      "text/plain": [
       "(514, 9)"
      ]
     },
     "execution_count": 32,
     "metadata": {},
     "output_type": "execute_result"
    }
   ],
   "source": [
    "# checking the shape of dataset\n",
    "df.shape"
   ]
  },
  {
   "cell_type": "code",
   "execution_count": 33,
   "id": "1467deee-f664-4fe9-9fec-e7fc9de6ca7b",
   "metadata": {},
   "outputs": [],
   "source": [
    "mapping = {'negative':0,'positive':1}\n",
    "df['class'] = df['class'].map(mapping)"
   ]
  },
  {
   "cell_type": "code",
   "execution_count": 34,
   "id": "debd5fc3-15a0-4e03-9060-cc5c46716633",
   "metadata": {},
   "outputs": [
    {
     "data": {
      "text/plain": [
       "0    90.077821\n",
       "1     9.922179\n",
       "Name: class, dtype: float64"
      ]
     },
     "execution_count": 34,
     "metadata": {},
     "output_type": "execute_result"
    }
   ],
   "source": [
    "df['class'].value_counts(normalize=True) * 100"
   ]
  },
  {
   "cell_type": "code",
   "execution_count": 35,
   "id": "795512a3-d56d-48db-929c-fdb6a6af23f4",
   "metadata": {},
   "outputs": [],
   "source": [
    "X = df.drop(columns=['class'])\n",
    "y = df['class']"
   ]
  },
  {
   "cell_type": "code",
   "execution_count": 36,
   "id": "d578d546-8936-4144-abd8-a97403bb5dc2",
   "metadata": {},
   "outputs": [
    {
     "data": {
      "text/plain": [
       "((344, 8), (170, 8))"
      ]
     },
     "execution_count": 36,
     "metadata": {},
     "output_type": "execute_result"
    }
   ],
   "source": [
    "X_train, X_test, y_train, y_test = train_test_split(X, y, test_size=0.33, random_state=42)\n",
    "X_train.shape , X_test.shape"
   ]
  },
  {
   "cell_type": "markdown",
   "id": "a1c42ac2-af51-455a-8740-020682164a88",
   "metadata": {},
   "source": [
    "**a**. Report performance score using a suitable metric. Is it possible that the presented result is an overfitted one? Justify."
   ]
  },
  {
   "cell_type": "code",
   "execution_count": 37,
   "id": "77961ab8-76cd-420a-8018-1b8f79be71b9",
   "metadata": {},
   "outputs": [
    {
     "name": "stdout",
     "output_type": "stream",
     "text": [
      "Logistic regression roc_auc_score on train set:0.9125288950531669\n",
      "Logistic regression roc_auc_score on test set:0.9163961038961038\n",
      "              precision    recall  f1-score   support\n",
      "\n",
      "           0       0.91      1.00      0.95       154\n",
      "           1       1.00      0.06      0.12        16\n",
      "\n",
      "    accuracy                           0.91       170\n",
      "   macro avg       0.96      0.53      0.54       170\n",
      "weighted avg       0.92      0.91      0.87       170\n",
      "\n"
     ]
    }
   ],
   "source": [
    "logit = LogisticRegression(penalty='l2')\n",
    "logit.fit(X_train,y_train)\n",
    "# print('train_set')\n",
    "pred_test = logit.predict(X_test)\n",
    "pred_probs_train = logit.predict_proba(X_train)\n",
    "pred_probs_test = logit.predict_proba(X_test)\n",
    "print(f\"Logistic regression roc_auc_score on train set:{roc_auc_score(y_train,pred_probs_train[:,1])}\")\n",
    "print(f\"Logistic regression roc_auc_score on test set:{roc_auc_score(y_test,pred_probs_test[:,1])}\")\n",
    "print(classification_report(y_test,pred_test))"
   ]
  },
  {
   "cell_type": "code",
   "execution_count": 38,
   "id": "05073a58-8766-4471-b87c-acc500d851ec",
   "metadata": {},
   "outputs": [
    {
     "name": "stdout",
     "output_type": "stream",
     "text": [
      "DecisionTree roc_auc_score on train set:1.0\n",
      "DecisionTree roc_auc_score on test set:0.8835227272727273\n",
      "              precision    recall  f1-score   support\n",
      "\n",
      "           0       0.98      0.95      0.97       154\n",
      "           1       0.65      0.81      0.72        16\n",
      "\n",
      "    accuracy                           0.94       170\n",
      "   macro avg       0.81      0.88      0.84       170\n",
      "weighted avg       0.95      0.94      0.94       170\n",
      "\n"
     ]
    }
   ],
   "source": [
    "dt = DecisionTreeClassifier()\n",
    "dt.fit(X_train,y_train)\n",
    "# print('train_set')\n",
    "pred_test = dt.predict(X_test)\n",
    "pred_probs_train = dt.predict_proba(X_train)\n",
    "pred_probs_test = dt.predict_proba(X_test)\n",
    "print(f\"DecisionTree roc_auc_score on train set:{roc_auc_score(y_train,pred_probs_train[:,1])}\")\n",
    "print(f\"DecisionTree roc_auc_score on test set:{roc_auc_score(y_test,pred_probs_test[:,1])}\")\n",
    "print(classification_report(y_test,pred_test))"
   ]
  },
  {
   "cell_type": "code",
   "execution_count": 39,
   "id": "2708de5e-91ac-4860-afe2-a52fce01625b",
   "metadata": {},
   "outputs": [
    {
     "name": "stdout",
     "output_type": "stream",
     "text": [
      "SupportVectorClassifier roc_auc_score on train set:0.9742024965325936\n",
      "SupportVectorClassifier roc_auc_score on test set:0.9614448051948051\n",
      "              precision    recall  f1-score   support\n",
      "\n",
      "           0       0.96      0.99      0.98       154\n",
      "           1       0.91      0.62      0.74        16\n",
      "\n",
      "    accuracy                           0.96       170\n",
      "   macro avg       0.94      0.81      0.86       170\n",
      "weighted avg       0.96      0.96      0.96       170\n",
      "\n"
     ]
    }
   ],
   "source": [
    "svc = SVC(probability=True)\n",
    "svc.fit(X_train,y_train)\n",
    "# print('train_set')\n",
    "pred_test = svc.predict(X_test)\n",
    "pred_probs_train = svc.predict_proba(X_train)\n",
    "pred_probs_test = svc.predict_proba(X_test)\n",
    "print(f\"SupportVectorClassifier roc_auc_score on train set:{roc_auc_score(y_train,pred_probs_train[:,1])}\")\n",
    "print(f\"SupportVectorClassifier roc_auc_score on test set:{roc_auc_score(y_test,pred_probs_test[:,1])}\")\n",
    "print(classification_report(y_test,pred_test))"
   ]
  },
  {
   "cell_type": "markdown",
   "id": "f072949c-b87a-49ee-91db-649b2eaee937",
   "metadata": {},
   "source": [
    "<br>"
   ]
  },
  {
   "cell_type": "markdown",
   "id": "be3bc671-5e74-4604-b7f9-90b132abfaf4",
   "metadata": {},
   "source": [
    "From all the above created models and checking the metrics such as recall_score , the models seems to overfit as we have class imbalanced dataset<br>"
   ]
  },
  {
   "cell_type": "code",
   "execution_count": 40,
   "id": "6f7698ef-b020-41ab-8671-c13560b7ca2d",
   "metadata": {},
   "outputs": [
    {
     "data": {
      "text/plain": [
       "0    90.077821\n",
       "1     9.922179\n",
       "Name: class, dtype: float64"
      ]
     },
     "execution_count": 40,
     "metadata": {},
     "output_type": "execute_result"
    }
   ],
   "source": [
    "df['class'].value_counts(normalize=True) * 100"
   ]
  },
  {
   "cell_type": "markdown",
   "id": "4e6ffd4b-3268-4a9b-84e3-0ba27091a914",
   "metadata": {},
   "source": [
    "<br>"
   ]
  },
  {
   "cell_type": "markdown",
   "id": "5834fc9e-085e-4784-b5fb-494bfa766f1a",
   "metadata": {},
   "source": [
    "**b**. Justify different design decisions for each ML model used to answer this question"
   ]
  },
  {
   "cell_type": "markdown",
   "id": "5ee70758-384e-477a-8d91-3bf3d9dcdd18",
   "metadata": {},
   "source": [
    "For each of the models created, Different design decisions are opted using Cost Sensitive learning as the dataset is facing Class imabalance<br>To optimize the results,class_weight parameters are designed differently either using<br>**'balanced'** or<br>assigning a **sample weight values assigned with cost for each class**<br>After that, metrics and classification report are analyzed for checking the overfitting/underfitting to make a generalized model"
   ]
  },
  {
   "cell_type": "code",
   "execution_count": 41,
   "id": "6065d7de-b0ce-483d-bbc2-31bf84b5cf46",
   "metadata": {},
   "outputs": [
    {
     "name": "stdout",
     "output_type": "stream",
     "text": [
      "Logistic regression roc_auc_score on train set:0.9275080906148867\n",
      "Logistic regression roc_auc_score on test set:0.9297889610389609\n",
      "              precision    recall  f1-score   support\n",
      "\n",
      "           0       0.98      0.92      0.95       154\n",
      "           1       0.50      0.81      0.62        16\n",
      "\n",
      "    accuracy                           0.91       170\n",
      "   macro avg       0.74      0.86      0.78       170\n",
      "weighted avg       0.93      0.91      0.92       170\n",
      "\n"
     ]
    }
   ],
   "source": [
    "logit = LogisticRegression(penalty='l2',class_weight='balanced')\n",
    "logit.fit(X_train,y_train)\n",
    "# print('train_set')\n",
    "pred_test = logit.predict(X_test)\n",
    "pred_probs_train = logit.predict_proba(X_train)\n",
    "pred_probs_test = logit.predict_proba(X_test)\n",
    "print(f\"Logistic regression roc_auc_score on train set:{roc_auc_score(y_train,pred_probs_train[:,1])}\")\n",
    "print(f\"Logistic regression roc_auc_score on test set:{roc_auc_score(y_test,pred_probs_test[:,1])}\")\n",
    "print(classification_report(y_test,pred_test))"
   ]
  },
  {
   "cell_type": "code",
   "execution_count": 42,
   "id": "44ccc866-c9ea-495c-b815-5894765e6b30",
   "metadata": {},
   "outputs": [
    {
     "name": "stdout",
     "output_type": "stream",
     "text": [
      "DecisionTree roc_auc_score on train set:1.0\n",
      "DecisionTree roc_auc_score on test set:0.862012987012987\n",
      "              precision    recall  f1-score   support\n",
      "\n",
      "           0       0.97      0.97      0.97       154\n",
      "           1       0.75      0.75      0.75        16\n",
      "\n",
      "    accuracy                           0.95       170\n",
      "   macro avg       0.86      0.86      0.86       170\n",
      "weighted avg       0.95      0.95      0.95       170\n",
      "\n"
     ]
    }
   ],
   "source": [
    "dt = DecisionTreeClassifier(class_weight='balanced')\n",
    "dt.fit(X_train,y_train)\n",
    "# print('train_set')\n",
    "pred_test = dt.predict(X_test)\n",
    "pred_probs_train = dt.predict_proba(X_train)\n",
    "pred_probs_test = dt.predict_proba(X_test)\n",
    "print(f\"DecisionTree roc_auc_score on train set:{roc_auc_score(y_train,pred_probs_train[:,1])}\")\n",
    "print(f\"DecisionTree roc_auc_score on test set:{roc_auc_score(y_test,pred_probs_test[:,1])}\")\n",
    "print(classification_report(y_test,pred_test))"
   ]
  },
  {
   "cell_type": "code",
   "execution_count": 43,
   "id": "172d6bd8-3190-4971-8465-80c1eb5a93e7",
   "metadata": {},
   "outputs": [
    {
     "name": "stdout",
     "output_type": "stream",
     "text": [
      "SupportVectorClassifier roc_auc_score on train set:0.9856680536292187\n",
      "SupportVectorClassifier roc_auc_score on test set:0.9728084415584414\n",
      "              precision    recall  f1-score   support\n",
      "\n",
      "           0       0.99      0.95      0.97       154\n",
      "           1       0.65      0.94      0.77        16\n",
      "\n",
      "    accuracy                           0.95       170\n",
      "   macro avg       0.82      0.94      0.87       170\n",
      "weighted avg       0.96      0.95      0.95       170\n",
      "\n"
     ]
    }
   ],
   "source": [
    "svc = SVC(probability=True,class_weight='balanced')\n",
    "svc.fit(X_train,y_train)\n",
    "# print('train_set')\n",
    "pred_test = svc.predict(X_test)\n",
    "pred_probs_train = svc.predict_proba(X_train)\n",
    "pred_probs_test = svc.predict_proba(X_test)\n",
    "print(f\"SupportVectorClassifier roc_auc_score on train set:{roc_auc_score(y_train,pred_probs_train[:,1])}\")\n",
    "print(f\"SupportVectorClassifier roc_auc_score on test set:{roc_auc_score(y_test,pred_probs_test[:,1])}\")\n",
    "print(classification_report(y_test,pred_test))"
   ]
  },
  {
   "cell_type": "code",
   "execution_count": 44,
   "id": "fb5ac09d-7f1f-4799-903e-a64bf71265af",
   "metadata": {},
   "outputs": [
    {
     "name": "stdout",
     "output_type": "stream",
     "text": [
      "Logistic regression roc_auc_score on train set:0.9363846509477578\n",
      "Logistic regression roc_auc_score on test set:0.9354707792207793\n",
      "              precision    recall  f1-score   support\n",
      "\n",
      "           0       0.98      0.88      0.93       154\n",
      "           1       0.42      0.81      0.55        16\n",
      "\n",
      "    accuracy                           0.88       170\n",
      "   macro avg       0.70      0.85      0.74       170\n",
      "weighted avg       0.93      0.88      0.89       170\n",
      "\n"
     ]
    }
   ],
   "source": [
    "logit = LogisticRegression(penalty='l2')\n",
    "logit.fit(X_train,y_train,sample_weight=np.where(y_train ==1,10,1))\n",
    "# print('train_set')\n",
    "pred_test = logit.predict(X_test)\n",
    "pred_probs_train = logit.predict_proba(X_train)\n",
    "pred_probs_test = logit.predict_proba(X_test)\n",
    "print(f\"Logistic regression roc_auc_score on train set:{roc_auc_score(y_train,pred_probs_train[:,1])}\")\n",
    "print(f\"Logistic regression roc_auc_score on test set:{roc_auc_score(y_test,pred_probs_test[:,1])}\")\n",
    "print(classification_report(y_test,pred_test))"
   ]
  },
  {
   "cell_type": "code",
   "execution_count": 45,
   "id": "5f06a544-66fa-4030-836e-a7fbcfb3eb93",
   "metadata": {},
   "outputs": [
    {
     "name": "stdout",
     "output_type": "stream",
     "text": [
      "DecisionTree roc_auc_score on train set:1.0\n",
      "DecisionTree roc_auc_score on test set:0.862012987012987\n",
      "              precision    recall  f1-score   support\n",
      "\n",
      "           0       0.97      0.97      0.97       154\n",
      "           1       0.75      0.75      0.75        16\n",
      "\n",
      "    accuracy                           0.95       170\n",
      "   macro avg       0.86      0.86      0.86       170\n",
      "weighted avg       0.95      0.95      0.95       170\n",
      "\n"
     ]
    }
   ],
   "source": [
    "dt = DecisionTreeClassifier()\n",
    "dt.fit(X_train,y_train,sample_weight=np.where(y_train ==1,10,1))\n",
    "# print('train_set')\n",
    "pred_test = dt.predict(X_test)\n",
    "pred_probs_train = dt.predict_proba(X_train)\n",
    "pred_probs_test = dt.predict_proba(X_test)\n",
    "print(f\"DecisionTree roc_auc_score on train set:{roc_auc_score(y_train,pred_probs_train[:,1])}\")\n",
    "print(f\"DecisionTree roc_auc_score on test set:{roc_auc_score(y_test,pred_probs_test[:,1])}\")\n",
    "print(classification_report(y_test,pred_test))"
   ]
  },
  {
   "cell_type": "code",
   "execution_count": 46,
   "id": "911089de-be74-45ce-9c78-e7ade4b6db83",
   "metadata": {},
   "outputs": [
    {
     "name": "stdout",
     "output_type": "stream",
     "text": [
      "SupportVectorClassifier roc_auc_score on train set:0.9892741562644475\n",
      "SupportVectorClassifier roc_auc_score on test set:0.9780844155844156\n",
      "              precision    recall  f1-score   support\n",
      "\n",
      "           0       0.99      0.94      0.97       154\n",
      "           1       0.62      0.94      0.75        16\n",
      "\n",
      "    accuracy                           0.94       170\n",
      "   macro avg       0.81      0.94      0.86       170\n",
      "weighted avg       0.96      0.94      0.95       170\n",
      "\n"
     ]
    }
   ],
   "source": [
    "svc = SVC(probability=True)\n",
    "svc.fit(X_train,y_train,sample_weight=np.where(y_train ==1,10,1))\n",
    "# print('train_set')\n",
    "pred_test = svc.predict(X_test)\n",
    "pred_probs_train = svc.predict_proba(X_train)\n",
    "pred_probs_test = svc.predict_proba(X_test)\n",
    "print(f\"SupportVectorClassifier roc_auc_score on train set:{roc_auc_score(y_train,pred_probs_train[:,1])}\")\n",
    "print(f\"SupportVectorClassifier roc_auc_score on test set:{roc_auc_score(y_test,pred_probs_test[:,1])}\")\n",
    "print(classification_report(y_test,pred_test))"
   ]
  },
  {
   "cell_type": "code",
   "execution_count": null,
   "id": "308af1f3-a994-488e-81b7-7a4ba5329d55",
   "metadata": {},
   "outputs": [],
   "source": []
  },
  {
   "cell_type": "markdown",
   "id": "39f8db56-3e64-4cb1-958f-e97460ada7d4",
   "metadata": {},
   "source": [
    "**c**. Have you optimized any hyper-parameters for each ML model? What are they? Why have you done that? Explain."
   ]
  },
  {
   "cell_type": "markdown",
   "id": "9802c7f4-5aea-4861-aa29-37d135605246",
   "metadata": {},
   "source": [
    "Yes, Model hyperparameters are tuned for all the above created models.They are optimized to avoid overfitting as well as underfitting to create generalized model<br><br>DecisionTree<br>'max_depth':[2,3,4,5],<br>\n",
    "             'class_weight':[{0:1,1:10},{0:1,1:50},{0:1,1:100},'balanced'],<br>\n",
    "             'criterion':['gini','entropy']<br><br>LogisticRegression<br>    'penalty' : ['l1', 'l2'],\n",
    "    'C' : [0.5,1],<br>\n",
    "    'solver' : ['lbfgs','newton-cg','liblinear','sag','saga'],<br>\n",
    "     'class_weight':[{0:1,1:10},{0:1,1:50},{0:1,1:40},{0:1,1:30}]<br><br><br>SupportVectorClassifier<br>'C': [0.1,1, 10, 100], 'gamma': [1,0.1,0.01,0.001],<br>\n",
    "              'kernel': ['rbf', 'poly', 'sigmoid'],<br>\n",
    "             'class_weight':[{0:1,1:10},{0:1,1:50},{0:1,1:40},{0:1,1:30}]<br>\n",
    "    "
   ]
  },
  {
   "cell_type": "code",
   "execution_count": 47,
   "id": "0ed91910-8baf-4961-8075-42fe520f34e1",
   "metadata": {},
   "outputs": [
    {
     "name": "stdout",
     "output_type": "stream",
     "text": [
      "Fitting 5 folds for each of 32 candidates, totalling 160 fits\n",
      "DecisionTree roc_auc_score on test set:0.9780844155844156\n",
      "              precision    recall  f1-score   support\n",
      "\n",
      "           0       1.00      0.90      0.95       154\n",
      "           1       0.52      1.00      0.68        16\n",
      "\n",
      "    accuracy                           0.91       170\n",
      "   macro avg       0.76      0.95      0.81       170\n",
      "weighted avg       0.95      0.91      0.92       170\n",
      "\n",
      "Best parameters::\n",
      "{'class_weight': {0: 1, 1: 10}, 'criterion': 'entropy', 'max_depth': 2}\n"
     ]
    }
   ],
   "source": [
    "param_grid = {'max_depth':[2,3,4,5],\n",
    "             'class_weight':[{0:1,1:10},{0:1,1:50},{0:1,1:100},'balanced'],\n",
    "             'criterion':['gini','entropy']}\n",
    "\n",
    "\n",
    "\n",
    "\n",
    "dt = DecisionTreeClassifier()\n",
    "\n",
    "grid = GridSearchCV(estimator=dt,scoring='roc_auc',param_grid=param_grid,cv = 5,verbose=1)\n",
    "grid.fit(X_train,y_train)\n",
    "# print('train_set')\n",
    "pred_test = grid.predict(X_test)\n",
    "# pred_probs_train = grid.predict_proba(X_train)\n",
    "pred_probs_test = grid.predict_proba(X_test)\n",
    "# print(f\"DecisionTree roc_auc_score on train set:{roc_auc_score(y_train,pred_probs_train[:,1])}\")\n",
    "print(f\"DecisionTree roc_auc_score on test set:{roc_auc_score(y_test,pred_probs_test[:,1])}\")\n",
    "print(classification_report(y_test,pred_test))\n",
    "print(f\"Best parameters::\\n{grid.best_params_}\")"
   ]
  },
  {
   "cell_type": "code",
   "execution_count": 48,
   "id": "76e5701d-43a1-4cd5-b924-9f4ee042df0d",
   "metadata": {},
   "outputs": [
    {
     "name": "stdout",
     "output_type": "stream",
     "text": [
      "Fitting 5 folds for each of 80 candidates, totalling 400 fits\n",
      "Logistic regression roc_auc_score on test set:0.9669237012987013\n",
      "              precision    recall  f1-score   support\n",
      "\n",
      "           0       0.99      0.64      0.78       154\n",
      "           1       0.21      0.94      0.35        16\n",
      "\n",
      "    accuracy                           0.67       170\n",
      "   macro avg       0.60      0.79      0.56       170\n",
      "weighted avg       0.92      0.67      0.74       170\n",
      "\n",
      "Best parameters::\n",
      "{'C': 1, 'class_weight': {0: 1, 1: 40}, 'penalty': 'l1', 'solver': 'saga'}\n"
     ]
    }
   ],
   "source": [
    "param_grid = [    \n",
    "    {'penalty' : ['l1', 'l2'],\n",
    "    'C' : [0.5,1],\n",
    "    'solver' : ['lbfgs','newton-cg','liblinear','sag','saga'],\n",
    "     'class_weight':[{0:1,1:10},{0:1,1:50},{0:1,1:40},{0:1,1:30}]\n",
    "    }\n",
    "]\n",
    "\n",
    "\n",
    "\n",
    "logit = LogisticRegression(penalty='l2')\n",
    "grid = GridSearchCV(estimator=logit,scoring='roc_auc',param_grid=param_grid,cv = 5,verbose=1)\n",
    "grid.fit(X_train,y_train)\n",
    "# logit.fit(X_train,y_train,sample_weight=np.where(y_train ==1,10,1))\n",
    "# print('train_set')\n",
    "pred_test = grid.predict(X_test)\n",
    "# pred_probs_train = logit.predict_proba(X_train)\n",
    "pred_probs_test = grid.predict_proba(X_test)\n",
    "# print(f\"Logistic regression roc_auc_score on train set:{roc_auc_score(y_train,pred_probs_train[:,1])}\")\n",
    "print(f\"Logistic regression roc_auc_score on test set:{roc_auc_score(y_test,pred_probs_test[:,1])}\")\n",
    "print(classification_report(y_test,pred_test))\n",
    "print(f\"Best parameters::\\n{grid.best_params_}\")"
   ]
  },
  {
   "cell_type": "code",
   "execution_count": 49,
   "id": "d8054395-2028-4a70-a286-7a9dd31ad9bb",
   "metadata": {},
   "outputs": [
    {
     "name": "stdout",
     "output_type": "stream",
     "text": [
      "Fitting 5 folds for each of 192 candidates, totalling 960 fits\n",
      "SupportVectorClassifier roc_auc_score on test set:0.9809253246753247\n",
      "              precision    recall  f1-score   support\n",
      "\n",
      "           0       0.99      0.95      0.97       154\n",
      "           1       0.65      0.94      0.77        16\n",
      "\n",
      "    accuracy                           0.95       170\n",
      "   macro avg       0.82      0.94      0.87       170\n",
      "weighted avg       0.96      0.95      0.95       170\n",
      "\n",
      "Best parameters::\n",
      "{'C': 10, 'class_weight': {0: 1, 1: 10}, 'gamma': 1, 'kernel': 'rbf'}\n"
     ]
    }
   ],
   "source": [
    "param_grid = {'C': [0.1,1, 10, 100], 'gamma': [1,0.1,0.01,0.001],\n",
    "              'kernel': ['rbf', 'poly', 'sigmoid'],\n",
    "             'class_weight':[{0:1,1:10},{0:1,1:50},{0:1,1:40},{0:1,1:30}]}\n",
    "\n",
    "svc = SVC(probability=True)\n",
    "grid = GridSearchCV(estimator=svc,scoring='roc_auc',param_grid=param_grid,cv = 5,verbose=1)\n",
    "grid.fit(X_train,y_train)\n",
    "# svc.fit(X_train,y_train,sample_weight=np.where(y_train ==1,10,1))\n",
    "# print('train_set')\n",
    "pred_test = grid.predict(X_test)\n",
    "# pred_probs_train = svc.predict_proba(X_train)\n",
    "pred_probs_test = grid.predict_proba(X_test)\n",
    "# print(f\"SupportVectorClassifier roc_auc_score on train set:{roc_auc_score(y_train,pred_probs_train[:,1])}\")\n",
    "print(f\"SupportVectorClassifier roc_auc_score on test set:{roc_auc_score(y_test,pred_probs_test[:,1])}\")\n",
    "print(classification_report(y_test,pred_test))\n",
    "print(f\"Best parameters::\\n{grid.best_params_}\")"
   ]
  },
  {
   "cell_type": "markdown",
   "id": "f5dd1392-854a-4304-8218-5453031e8d0f",
   "metadata": {},
   "source": [
    "From above hypertuning , SupportVectorClassifier gives optimal performance metric results"
   ]
  },
  {
   "cell_type": "code",
   "execution_count": null,
   "id": "306e07e2-6e36-411d-8531-77cf2e815a24",
   "metadata": {},
   "outputs": [],
   "source": []
  },
  {
   "cell_type": "code",
   "execution_count": null,
   "id": "75bbf7be-c716-455d-86b3-a6d7553622b2",
   "metadata": {},
   "outputs": [],
   "source": []
  },
  {
   "cell_type": "markdown",
   "id": "baa83b56-d825-4112-a6aa-f7b7e1802bd6",
   "metadata": {},
   "source": [
    "**d**. Finally, make a recommendation based on the reported results and justify it."
   ]
  },
  {
   "cell_type": "markdown",
   "id": "ba27bcbe-b90a-40a1-bc25-a86f60935337",
   "metadata": {},
   "source": [
    "The given dataset is facing class imbalanced issue as the positive (1) class has very few instances compared to negative(0) instances<br>->3 Machine learning models are created<br>->All three models seems to overfit initially<br><br> Therefore Cost sensitive learning is applied on all three machine learning models<br>\n",
    "There is a subfield of machine learning that is focused on learning and using models on data that have uneven penalties or costs when making predictions and more<br>In cost-sensitive learning, a penalty associated with an incorrect prediction and is referred to as a “cost.”"
   ]
  },
  {
   "cell_type": "markdown",
   "id": "c6435f5b-fcc7-4f15-86fa-5c09d92dbbc4",
   "metadata": {},
   "source": [
    "After applying the above methods,**SupportVectorClassifier** gives below optimal performance metric results"
   ]
  },
  {
   "cell_type": "code",
   "execution_count": 50,
   "id": "bbeac12e-1f91-4c63-80c4-0980df701bdd",
   "metadata": {},
   "outputs": [
    {
     "name": "stdout",
     "output_type": "stream",
     "text": [
      "SupportVectorClassifier roc_auc_score on test set:0.9809253246753247\n",
      "              precision    recall  f1-score   support\n",
      "\n",
      "           0       0.99      0.95      0.97       154\n",
      "           1       0.65      0.94      0.77        16\n",
      "\n",
      "    accuracy                           0.95       170\n",
      "   macro avg       0.82      0.94      0.87       170\n",
      "weighted avg       0.96      0.95      0.95       170\n",
      "\n",
      "Best parameters::\n",
      "{'C': 10, 'class_weight': {0: 1, 1: 10}, 'gamma': 1, 'kernel': 'rbf'}\n"
     ]
    }
   ],
   "source": [
    "print(f\"SupportVectorClassifier roc_auc_score on test set:{roc_auc_score(y_test,pred_probs_test[:,1])}\")\n",
    "print(classification_report(y_test,pred_test))\n",
    "print(f\"Best parameters::\\n{grid.best_params_}\")"
   ]
  },
  {
   "cell_type": "markdown",
   "id": "42a68357-7303-4924-92a9-557dbf0a84ba",
   "metadata": {},
   "source": [
    "Imbalanced classes in a dataset are often usual among classification problems in machine learning. Balancing an imbalanced class is crucial as the classification model, which is trained using the imbalanced class dataset will tend to exhibit the prediction accuracy according to the highest class of the dataset"
   ]
  },
  {
   "cell_type": "markdown",
   "id": "693b7458-13ef-4c09-9fad-b5eb20211d50",
   "metadata": {},
   "source": [
    "Below here, listed down the ways we can manage the imbalanced classes in the dataset."
   ]
  },
  {
   "cell_type": "markdown",
   "id": "1f77828e-aa77-42fa-8713-52d6f0c4c167",
   "metadata": {},
   "source": [
    "**Changing Performance Metric**<br>\n",
    "Performance metrics play a fundamental role while building a machine learning model. Implying the incorrect performance metric on an imbalance dataset can yield wrong outcomes. For instance, although accuracy is considered to be an important metric for evaluating the performance of a machine learning model, sometimes it can be misleading in case of an imbalanced dataset. In such circumstances, one must use other performance metrics such as Recall, F1-Score, False Positive Rate (FPR), Precision, Area Under ROC Curve (AUROC), among others.<br><br>**The More Data, The Better**\n",
    "Machine learning models are data-hungry. In most cases, researchers spend most of their time in tasks like data cleaning, analysing, visualising, among others during an end-to-end machine learning process and contribute less time in data collection. While all of these steps are important, often the collection of data gets limited to certain numbers. To avoid such circumstances, one must add more data into the dataset. Collecting more data with relevant examples of the undersampled class of the dataset will help to overcome the issue.<br><br>**Experiment With Different Algorithms**<br>\n",
    "Another way to handle and manage imbalanced dataset is to try different algorithms rather than sticking to one particular algorithm. Experimenting with different algorithms provides a probability to check how the algorithms are performing by a particular dataset.<br><br>**Resampling of Dataset**<br>\n",
    "To deal with the imbalanced dataset, researchers have introduced a number of resampling techniques. One of the benefits of using these techniques is that they are external approaches using the existing algorithms. They can be easily transportable in case of both undersampling and oversampling.\n",
    "\n",
    "Some of the popular resampling methods are as follows-\n",
    "\n",
    "Random Oversampling: Oversampling seeks to increase the number of minority class members in the training set. Random oversampling is a simple approach to resampling, where one chooses members from the minority class at random. Then, these randomly chosen members are duplicated and added to the new training set. \n",
    "Random Undersampling: Undersampling is a process that seeks to reduce the number of majority class members in the training set. Random undersampling is a popular technique for resampling, where the majority class documents in the training set are randomly eliminated until the ratio between the minority and majority class is at the desired level. <br><br>**Use of Ensemble Methods**<br> \n",
    "Use of ensemble methods is one of the ways to handle the class imbalance problems of the dataset. The learning algorithms construct a set of classifiers and then classify new data points by making a choice of their predictions known as Ensemble methods. It has been discovered that ensembles are often much more accurate than the individual classifiers which make them up. Some of the commonly used Ensemble techniques are Bagging or Bootstrap Aggregation, Boosting and Stacking. <br><br>**Generating Synthetic Samples**<br>\n",
    "Synthetic Minority Oversampling TEchnique or SMOTE is one of the most popular approaches for generating synthetic samples. SMOTE is an over-sampling approach in which the minority class is over-sampled by creating synthetic examples rather than by over-sampling with replacement. \n",
    "\n",
    "It is basically a combination of oversampling the minority (abnormal) class and undersampling the majority (normal) class, which is found to achieve better classifier performance (in ROC space) than only undersampling the majority class. In this technique, synthetic examples are generated in a less application-specific manner, by operating in the feature space rather than data space.<br><br>**Multiple Classification System**<br>\n",
    "Multiple Classification system is an approach where a classification system is built for imbalanced data based on the combination of several classifiers. It is a method for building multiple classifier systems in which each constituting classifier is trained on a subset of the majority class and on the whole minority class. The basis behind this method is the partition of the set of samples of the majority class in several subsets, each consisting of as many samples as the minority class.<br><br>**Use of Cost-Sensitive Algorithms**<br>\n",
    "Cost-Sensitive Learning is a type of learning that takes the misclassification or other types of costs into consideration. Cost-sensitive learning is a popular and common approach to solve the class imbalanced datasets. Popular machine learning libraries such as support vector machines (SVM), random forest, decision trees, logistic regression, among others, can be configured using the cost-sensitive training. "
   ]
  },
  {
   "cell_type": "markdown",
   "id": "73919e19-0334-4683-bb3e-e21dbbf5706d",
   "metadata": {},
   "source": [
    "<br>"
   ]
  },
  {
   "cell_type": "markdown",
   "id": "671e2cd0-765f-4e75-87ec-45007754d41e",
   "metadata": {},
   "source": [
    "##### References"
   ]
  },
  {
   "cell_type": "markdown",
   "id": "ceeaec86-b0fb-4138-923e-4dce0cb4af1f",
   "metadata": {},
   "source": [
    "https://machinelearningmastery.com/cost-sensitive-learning-for-imbalanced-classification/<br>https://www.kaggle.com/code/deepakdodi/lasso-and-ridge-hypertuning-over-gapminder-dataset<br>https://scikit-learn.org/stable/modules/naive_bayes.html<br>https://scikit-learn.org/stable/modules/generated/sklearn.ensemble.VotingClassifier.html<br>https://www.hitechnectar.com/blogs/hyperparameter-vs-parameter/<br>https://machinelearningmastery.com/calculate-feature-importance-with-python/<br>https://scikit-learn.org/stable/modules/grid_search.html<br>https://analyticsindiamag.com/top-ways-to-manage-imbalanced-classes-in-dataset/<br>https://www.datacamp.com/blog/machine-learning-models-explained\n"
   ]
  },
  {
   "cell_type": "code",
   "execution_count": null,
   "id": "721eb95b-896b-4ffa-be31-18c37ca6fe5f",
   "metadata": {},
   "outputs": [],
   "source": []
  }
 ],
 "metadata": {
  "kernelspec": {
   "display_name": "Python 3 (ipykernel)",
   "language": "python",
   "name": "python3"
  },
  "language_info": {
   "codemirror_mode": {
    "name": "ipython",
    "version": 3
   },
   "file_extension": ".py",
   "mimetype": "text/x-python",
   "name": "python",
   "nbconvert_exporter": "python",
   "pygments_lexer": "ipython3",
   "version": "3.9.13"
  }
 },
 "nbformat": 4,
 "nbformat_minor": 5
}
