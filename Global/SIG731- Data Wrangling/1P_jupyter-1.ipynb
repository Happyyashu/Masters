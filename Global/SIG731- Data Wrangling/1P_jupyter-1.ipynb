{
 "cells": [
  {
   "cell_type": "markdown",
   "id": "f8ae444f-57bd-4d20-ac88-0e5407e7b597",
   "metadata": {},
   "source": [
    "Title: **Task 1P Introduction to Python and Jupyter Notebooks** <br> Name: **HARPREET SINGH** <br>Student Number: **223925166**<br> Email : **yashu.harpreet@gmail.com**"
   ]
  },
  {
   "cell_type": "markdown",
   "id": "5d3b4f6b-9b0e-4b16-a0e2-212a2b69b03e",
   "metadata": {},
   "source": [
    "This task is about how to use **jupyter Notebooks** using simple python syntax to familarise with jupyter environment and using **basic python data structures, control flow and conditions in python such as lists, loops** etc\n",
    "<br>To demonstrate, we will be using **BMI health measure** to learn about data structures"
   ]
  },
  {
   "cell_type": "markdown",
   "id": "d8152248-d7bb-4f8d-b85c-471fabfd0abb",
   "metadata": {},
   "source": [
    "<br>"
   ]
  },
  {
   "cell_type": "markdown",
   "id": "08cec6a0-59ec-4598-9d7d-34854544c98c",
   "metadata": {},
   "source": [
    "Here we are importing only 1 **matplotlib** library for plotting purposes.Rest are computed using python base libraries"
   ]
  },
  {
   "cell_type": "code",
   "execution_count": 1,
   "id": "568f726a-7e8e-4ec9-b6e2-7bbbb4471a6b",
   "metadata": {},
   "outputs": [],
   "source": [
    "import matplotlib.pyplot as plt # Importing this library for plotting graphs"
   ]
  },
  {
   "cell_type": "markdown",
   "id": "d2159670-9b0d-4c78-a96e-f3005eff1d5b",
   "metadata": {},
   "source": [
    "Below ,three python lists will be defined with same number of elements containing names , heights and weights of people"
   ]
  },
  {
   "cell_type": "code",
   "execution_count": 2,
   "id": "99378d9c-18a7-41d2-a2b8-a303586ebd85",
   "metadata": {},
   "outputs": [
    {
     "name": "stdout",
     "output_type": "stream",
     "text": [
      "Names: ['HARPREET', 'ISHA', 'KANCHAN', 'KAMAL', 'AYUSH', 'DEEPAK']\n",
      "heights: [154, 150, 151, 152, 159, 162]\n",
      "wights: [78, 60, 65, 68, 80, 82]\n"
     ]
    }
   ],
   "source": [
    "names = ['HARPREET','ISHA','KANCHAN','KAMAL','AYUSH','DEEPAK']\n",
    "heights = [154,150,151,152,159,162]\n",
    "wights = [78,60,65,68,80,82]\n",
    "print(f\"Names: {names}\")\n",
    "print(f\"heights: {heights}\")\n",
    "print(f\"wights: {wights}\")"
   ]
  },
  {
   "cell_type": "markdown",
   "id": "43540579-7490-46f1-9e30-ae5d7fc7458f",
   "metadata": {},
   "source": [
    "Above three lists **names**, **heights** and **wieghts** are created \n"
   ]
  },
  {
   "cell_type": "markdown",
   "id": "2dffd032-67a5-4295-8cf2-0bcb73b0d1ea",
   "metadata": {},
   "source": [
    "Now we are going to use **for** loop with **list comprehension** to calculate **BMI** and **new BMI**"
   ]
  },
  {
   "cell_type": "markdown",
   "id": "90b5cf75-cb24-414f-95e5-4b62558bb0dd",
   "metadata": {},
   "source": [
    "**BMI** Formula: weight (kg) / [height (m)]2<br>**new BMI** (metric) = 1.3 x weight (kg) / height (m)2.5"
   ]
  },
  {
   "cell_type": "code",
   "execution_count": 3,
   "id": "1eebe3ca-6953-4700-8d59-b1d09a3b5c89",
   "metadata": {},
   "outputs": [
    {
     "name": "stdout",
     "output_type": "stream",
     "text": [
      "BMI of above persons: [32.89, 26.67, 28.51, 29.43, 31.64, 31.25]\n"
     ]
    }
   ],
   "source": [
    "bmi = [round((w)/(h/100)**2,2) for h,w in zip(heights,wights)]\n",
    "print(f\"BMI of above persons: {bmi}\")"
   ]
  },
  {
   "cell_type": "code",
   "execution_count": 4,
   "id": "551d79bb-e809-4561-bdb1-196ecaaac269",
   "metadata": {},
   "outputs": [
    {
     "name": "stdout",
     "output_type": "stream",
     "text": [
      "New BMI (exponent of 2.5): [39.75, 32.66, 34.8, 35.81, 37.64, 36.82]\n"
     ]
    }
   ],
   "source": [
    "new_bmi = [round((1.5*(w))/(h/100)**2.5,2) for h,w in zip(heights,wights)]\n",
    "print(f\"New BMI (exponent of 2.5): {new_bmi}\")"
   ]
  },
  {
   "cell_type": "markdown",
   "id": "2e7c88c5-d458-4914-8f98-94ab37457298",
   "metadata": {},
   "source": [
    "<br>"
   ]
  },
  {
   "cell_type": "markdown",
   "id": "61e126f7-fbcd-4bed-91cb-c98e1998dfcc",
   "metadata": {},
   "source": [
    "Now we will categorize the BMI defined by **the WHO (underweight if below 18.5, normal range\n",
    "below 25.0, overweight below 30.0, obese otherwise**<br>For this a **cal_bmi_category** function will be created which will categorize the person accrding to thier BMI values"
   ]
  },
  {
   "cell_type": "code",
   "execution_count": 5,
   "id": "e34aef53-e50f-4e7f-8307-46c83178fa06",
   "metadata": {},
   "outputs": [
    {
     "name": "stdout",
     "output_type": "stream",
     "text": [
      "## HARPREET   has BMI of 32.89 which is obsety class 1. The new BMI index is 39.75\n",
      "## ISHA       has BMI of 26.67 which is Pre-obesity. The new BMI index is 32.66\n",
      "## KANCHAN    has BMI of 28.51 which is Pre-obesity. The new BMI index is 34.8\n",
      "## KAMAL      has BMI of 29.43 which is Pre-obesity. The new BMI index is 35.81\n",
      "## AYUSH      has BMI of 31.64 which is obsety class 1. The new BMI index is 37.64\n",
      "## DEEPAK     has BMI of 31.25 which is obsety class 1. The new BMI index is 36.82\n"
     ]
    }
   ],
   "source": [
    "# Defining the function \n",
    "def cal_bmi_category(val):\n",
    "    if val < 18.5:\n",
    "        return \"Underweight\"\n",
    "    elif val >=18.5 and val <= 24.9:\n",
    "        return \"Normal weight\"\n",
    "    elif val >= 25.0 and val <= 29.9:\n",
    "        return \"Pre-obesity\"\n",
    "    elif val >=30.0 and val <= 34.9:\n",
    "        return \"obsety class 1\"\n",
    "    elif val >= 35.0 and val <=39.9:\n",
    "        return \"obesity class 2\"\n",
    "    else:\n",
    "        return \"obesity class 3\"\n",
    "\n",
    "## using for loop and calling the above function to print values based on BMI\n",
    "for name,bmi_val,new_bmi_val in zip(names,bmi,new_bmi):\n",
    "    print(f\"## {name:{10}} has BMI of {bmi_val} which is {cal_bmi_category(bmi_val)}. The new BMI index is {new_bmi_val}\")"
   ]
  },
  {
   "cell_type": "markdown",
   "id": "14b38fe6-796e-43d7-bc8c-67472f8bf9bc",
   "metadata": {},
   "source": [
    "<br>"
   ]
  },
  {
   "cell_type": "markdown",
   "id": "27be67c0-6aff-4bb4-b1d0-85ae337f6852",
   "metadata": {},
   "source": [
    "Now, the above BMI values are plotted on a graph using matplotlib python library to visualize the results and compare them"
   ]
  },
  {
   "cell_type": "code",
   "execution_count": 6,
   "id": "d272e2a3-278f-4e08-86d7-1c8469dbf2ff",
   "metadata": {},
   "outputs": [
    {
     "data": {
      "image/png": "[encoded data removed]",
      "text/plain": [
       "<Figure size 1200x600 with 1 Axes>"
      ]
     },
     "metadata": {},
     "output_type": "display_data"
    }
   ],
   "source": [
    "plt.figure(figsize = (12,6))\n",
    "plt.bar(names, bmi,color = ['green', 'blue', 'purple', 'brown', 'teal'])\n",
    "plt.title(\"My Friend's BMI\") \n",
    "plt.xlabel('Names')\n",
    "plt.ylabel('BMI values')\n",
    "plt.show()"
   ]
  },
  {
   "cell_type": "markdown",
   "id": "225482f7-2c19-4437-8797-6ede6207f7fc",
   "metadata": {},
   "source": [
    "The above **plt.bar** plots the BMI values on a bar plot which helps to compare the BMI values"
   ]
  },
  {
   "cell_type": "markdown",
   "id": "6efe91fd-fa94-411b-80f1-84790009dd99",
   "metadata": {},
   "source": [
    "<br>"
   ]
  },
  {
   "cell_type": "markdown",
   "id": "ce8aad8c-312b-4e87-a80c-3899bef9e5fc",
   "metadata": {},
   "source": [
    "Body Mass Index (BMI) has long been used as a simple and quick measure to assess body weight in relation to height. One of the main benefits of BMI lies in its simplicity and ease of calculation, making it a widely accessible tool for healthcare professionals to quickly screen individuals for potential weight-related health issues. It serves as a valuable initial assessment in identifying potential health risks associated with underweight, normal weight, overweight, and obesity. From a medical perspective, BMI can be a useful indicator for identifying individuals who may be at risk for various health conditions, such as cardiovascular diseases, diabetes, and certain cancers.\n",
    "\n",
    "However, BMI has several limitations that need to be considered. It does not differentiate between muscle mass and fat, leading to potential misclassification of individuals with high muscle mass as overweight or obese, despite having a healthy level of body fat. Additionally, BMI does not account for the distribution of fat in the body, which is crucial in understanding health risks. For example, abdominal fat is known to be more strongly associated with health risks than fat in other areas of the body. Therefore, BMI may not provide a comprehensive picture of an individual's health.\n",
    "\n",
    "The introduction of a new BMI or alternative measures aims to address some of these limitations. These new metrics may incorporate additional factors such as waist circumference, body fat percentage, or other health markers to provide a more nuanced understanding of an individual's health status. However, these new measures also pose challenges, as they may require more sophisticated equipment or expertise for accurate assessment, limiting their widespread applicability and accessibility.\n",
    "\n",
    "From a societal perspective, the misuse of BMI can contribute to the stigmatization of individuals based on their body weight. Overreliance on BMI as a sole determinant of health can perpetuate unrealistic beauty standards and contribute to body shaming. It is crucial to emphasize the importance of adopting a holistic approach to health that considers various factors beyond BMI, such as lifestyle, genetics, and mental well-being. In summary, while BMI has its merits as a quick screening tool, it is essential to recognize its limitations and consider more comprehensive measures for a more accurate assessment of health and well-being."
   ]
  },
  {
   "cell_type": "markdown",
   "id": "a94a172a-a639-477b-a400-fa8becbc2461",
   "metadata": {},
   "source": [
    "<br><br>"
   ]
  },
  {
   "cell_type": "markdown",
   "id": "7d6a45b3-5b04-4fd7-8527-4c2c6753d974",
   "metadata": {},
   "source": [
    "In this introductory report, we used **base python data structures, loop operations and visualisation to hava a basic understanding on jupyter notebook**"
   ]
  },
  {
   "cell_type": "code",
   "execution_count": null,
   "id": "48b79a47-3c6e-4e82-9eb2-81f84ee39ed0",
   "metadata": {},
   "outputs": [],
   "source": []
  }
 ],
 "metadata": {
  "kernelspec": {
   "display_name": "Python 3 (ipykernel)",
   "language": "python",
   "name": "python3"
  },
  "language_info": {
   "codemirror_mode": {
    "name": "ipython",
    "version": 3
   },
   "file_extension": ".py",
   "mimetype": "text/x-python",
   "name": "python",
   "nbconvert_exporter": "python",
   "pygments_lexer": "ipython3",
   "version": "3.9.13"
  }
 },
 "nbformat": 4,
 "nbformat_minor": 5
}
