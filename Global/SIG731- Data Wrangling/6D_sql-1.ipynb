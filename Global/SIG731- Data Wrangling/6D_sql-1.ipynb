{
 "cells": [
  {
   "cell_type": "markdown",
   "id": "b4fad99f-0c32-4bbd-b9f4-4420f093717d",
   "metadata": {},
   "source": [
    "Title: Task 6D **pandas vs SQL**<br> Name: **HARPREET SINGH** <br>Student Number: **223925166**<br> Email : **yashu.harpreet@gmail.com**"
   ]
  },
  {
   "cell_type": "markdown",
   "id": "e0dd6e8d-118a-43bf-9fcb-88c837506daa",
   "metadata": {},
   "source": [
    "This task is about the use of **pandas python library** to come up with the results equivalent to those that correspond to **SQL\n",
    "queries** perform on the given dataset<br>The dataset,**nycflights13** gives information about all 336,776 flights that departed\n",
    "in 2013 from the three New York (in the US) airports (EWR, JFK, and LGA) to destinations in the United\n",
    "States, Puerto Rico, and the American Virgin Islands<br>\n",
    "nycflights13_flights.csv.gz – flights information,<br>\n",
    "nycflights13_airlines.csv.gz – decodes two letter carrier codes,<br>\n",
    "nycflights13_airports.csv.gz – airport data,<br>\n",
    "nycflights13_planes.csv.gz – plane data,<br>\n",
    "nycflights13_weather.csv.gz – hourly meteorological data for LGA, JFK, and EWR."
   ]
  },
  {
   "cell_type": "markdown",
   "id": "daded2f7-5924-4a5b-a276-bd1618f26c9a",
   "metadata": {},
   "source": [
    "First, we import all the necessary libraries for performing the tasks"
   ]
  },
  {
   "cell_type": "code",
   "execution_count": 1,
   "id": "9b93b56b-7d35-48c5-9fa9-2af3e2496243",
   "metadata": {},
   "outputs": [],
   "source": [
    "import numpy as np\n",
    "import pandas as pd\n",
    "import matplotlib.pyplot as plt\n",
    "import seaborn as sns\n",
    "import tempfile, os.path\n",
    "import sqlite3"
   ]
  },
  {
   "cell_type": "markdown",
   "id": "22a39fb9-df27-44d0-8c99-d997796c8791",
   "metadata": {},
   "source": [
    "The above libraries are imported successfully"
   ]
  },
  {
   "cell_type": "markdown",
   "id": "f965e603-de7a-4b2b-af52-826afd895a41",
   "metadata": {},
   "source": [
    "Now we read the datasets using **pandas.read_csv** to import the data into respective datasets"
   ]
  },
  {
   "cell_type": "code",
   "execution_count": 2,
   "id": "6ba27781-664d-4e83-9dfc-d7fac3616f88",
   "metadata": {},
   "outputs": [],
   "source": [
    "airlines = pd.read_csv('nycflights13_airlines.csv.gz', compression='gzip',comment=\"#\")\n",
    "airports = pd.read_csv('nycflights13_airports.csv.gz', compression='gzip',comment=\"#\")\n",
    "flights = pd.read_csv('nycflights13_flights.csv.gz', compression='gzip',comment=\"#\")\n",
    "planes = pd.read_csv('nycflights13_planes.csv.gz', compression='gzip',comment=\"#\",na_values=np.nan)\n",
    "weather = pd.read_csv('nycflights13_weather.csv-1.gz', compression='gzip',comment=\"#\")"
   ]
  },
  {
   "cell_type": "markdown",
   "id": "a74bb840-521e-4d85-a8fa-dd3d8f02239c",
   "metadata": {},
   "source": [
    "All the datasets are read successfuly. Now we check the data in each dataset to have a glimpse of records present "
   ]
  },
  {
   "cell_type": "code",
   "execution_count": 3,
   "id": "f686ceba-4707-4934-93c3-1e475bb03845",
   "metadata": {},
   "outputs": [
    {
     "data": {
      "text/html": [
       "<div>\n",
       "<style scoped>\n",
       "    .dataframe tbody tr th:only-of-type {\n",
       "        vertical-align: middle;\n",
       "    }\n",
       "\n",
       "    .dataframe tbody tr th {\n",
       "        vertical-align: top;\n",
       "    }\n",
       "\n",
       "    .dataframe thead th {\n",
       "        text-align: right;\n",
       "    }\n",
       "</style>\n",
       "<table border=\"1\" class=\"dataframe\">\n",
       "  <thead>\n",
       "    <tr style=\"text-align: right;\">\n",
       "      <th></th>\n",
       "      <th>carrier</th>\n",
       "      <th>name</th>\n",
       "    </tr>\n",
       "  </thead>\n",
       "  <tbody>\n",
       "    <tr>\n",
       "      <th>0</th>\n",
       "      <td>9E</td>\n",
       "      <td>Endeavor Air Inc.</td>\n",
       "    </tr>\n",
       "  </tbody>\n",
       "</table>\n",
       "</div>"
      ],
      "text/plain": [
       "  carrier               name\n",
       "0      9E  Endeavor Air Inc."
      ]
     },
     "execution_count": 3,
     "metadata": {},
     "output_type": "execute_result"
    }
   ],
   "source": [
    "airlines.head(1)"
   ]
  },
  {
   "cell_type": "code",
   "execution_count": 4,
   "id": "62bc8332-e90d-4104-9176-cc0c8c5ee62e",
   "metadata": {},
   "outputs": [
    {
     "data": {
      "text/html": [
       "<div>\n",
       "<style scoped>\n",
       "    .dataframe tbody tr th:only-of-type {\n",
       "        vertical-align: middle;\n",
       "    }\n",
       "\n",
       "    .dataframe tbody tr th {\n",
       "        vertical-align: top;\n",
       "    }\n",
       "\n",
       "    .dataframe thead th {\n",
       "        text-align: right;\n",
       "    }\n",
       "</style>\n",
       "<table border=\"1\" class=\"dataframe\">\n",
       "  <thead>\n",
       "    <tr style=\"text-align: right;\">\n",
       "      <th></th>\n",
       "      <th>faa</th>\n",
       "      <th>name</th>\n",
       "      <th>lat</th>\n",
       "      <th>lon</th>\n",
       "      <th>alt</th>\n",
       "      <th>tz</th>\n",
       "      <th>dst</th>\n",
       "      <th>tzone</th>\n",
       "    </tr>\n",
       "  </thead>\n",
       "  <tbody>\n",
       "    <tr>\n",
       "      <th>0</th>\n",
       "      <td>04G</td>\n",
       "      <td>Lansdowne Airport</td>\n",
       "      <td>41.130472</td>\n",
       "      <td>-80.619583</td>\n",
       "      <td>1044</td>\n",
       "      <td>-5</td>\n",
       "      <td>A</td>\n",
       "      <td>America/New_York</td>\n",
       "    </tr>\n",
       "  </tbody>\n",
       "</table>\n",
       "</div>"
      ],
      "text/plain": [
       "   faa               name        lat        lon   alt  tz dst  \\\n",
       "0  04G  Lansdowne Airport  41.130472 -80.619583  1044  -5   A   \n",
       "\n",
       "              tzone  \n",
       "0  America/New_York  "
      ]
     },
     "execution_count": 4,
     "metadata": {},
     "output_type": "execute_result"
    }
   ],
   "source": [
    "airports.head(1)"
   ]
  },
  {
   "cell_type": "code",
   "execution_count": 5,
   "id": "4611bcb4-3d97-4d53-88e9-62ceed61a156",
   "metadata": {},
   "outputs": [
    {
     "data": {
      "text/html": [
       "<div>\n",
       "<style scoped>\n",
       "    .dataframe tbody tr th:only-of-type {\n",
       "        vertical-align: middle;\n",
       "    }\n",
       "\n",
       "    .dataframe tbody tr th {\n",
       "        vertical-align: top;\n",
       "    }\n",
       "\n",
       "    .dataframe thead th {\n",
       "        text-align: right;\n",
       "    }\n",
       "</style>\n",
       "<table border=\"1\" class=\"dataframe\">\n",
       "  <thead>\n",
       "    <tr style=\"text-align: right;\">\n",
       "      <th></th>\n",
       "      <th>year</th>\n",
       "      <th>month</th>\n",
       "      <th>day</th>\n",
       "      <th>dep_time</th>\n",
       "      <th>sched_dep_time</th>\n",
       "      <th>dep_delay</th>\n",
       "      <th>arr_time</th>\n",
       "      <th>sched_arr_time</th>\n",
       "      <th>arr_delay</th>\n",
       "      <th>carrier</th>\n",
       "      <th>flight</th>\n",
       "      <th>tailnum</th>\n",
       "      <th>origin</th>\n",
       "      <th>dest</th>\n",
       "      <th>air_time</th>\n",
       "      <th>distance</th>\n",
       "      <th>hour</th>\n",
       "      <th>minute</th>\n",
       "      <th>time_hour</th>\n",
       "    </tr>\n",
       "  </thead>\n",
       "  <tbody>\n",
       "    <tr>\n",
       "      <th>0</th>\n",
       "      <td>2013</td>\n",
       "      <td>1</td>\n",
       "      <td>1</td>\n",
       "      <td>517.0</td>\n",
       "      <td>515</td>\n",
       "      <td>2.0</td>\n",
       "      <td>830.0</td>\n",
       "      <td>819</td>\n",
       "      <td>11.0</td>\n",
       "      <td>UA</td>\n",
       "      <td>1545</td>\n",
       "      <td>N14228</td>\n",
       "      <td>EWR</td>\n",
       "      <td>IAH</td>\n",
       "      <td>227.0</td>\n",
       "      <td>1400</td>\n",
       "      <td>5</td>\n",
       "      <td>15</td>\n",
       "      <td>2013-01-01 05:00:00</td>\n",
       "    </tr>\n",
       "  </tbody>\n",
       "</table>\n",
       "</div>"
      ],
      "text/plain": [
       "   year  month  day  dep_time  sched_dep_time  dep_delay  arr_time  \\\n",
       "0  2013      1    1     517.0             515        2.0     830.0   \n",
       "\n",
       "   sched_arr_time  arr_delay carrier  flight tailnum origin dest  air_time  \\\n",
       "0             819       11.0      UA    1545  N14228    EWR  IAH     227.0   \n",
       "\n",
       "   distance  hour  minute            time_hour  \n",
       "0      1400     5      15  2013-01-01 05:00:00  "
      ]
     },
     "execution_count": 5,
     "metadata": {},
     "output_type": "execute_result"
    }
   ],
   "source": [
    "flights.head(1)"
   ]
  },
  {
   "cell_type": "code",
   "execution_count": 6,
   "id": "55c8a342-33d7-4eec-941c-12abbfa065cb",
   "metadata": {},
   "outputs": [
    {
     "data": {
      "text/html": [
       "<div>\n",
       "<style scoped>\n",
       "    .dataframe tbody tr th:only-of-type {\n",
       "        vertical-align: middle;\n",
       "    }\n",
       "\n",
       "    .dataframe tbody tr th {\n",
       "        vertical-align: top;\n",
       "    }\n",
       "\n",
       "    .dataframe thead th {\n",
       "        text-align: right;\n",
       "    }\n",
       "</style>\n",
       "<table border=\"1\" class=\"dataframe\">\n",
       "  <thead>\n",
       "    <tr style=\"text-align: right;\">\n",
       "      <th></th>\n",
       "      <th>tailnum</th>\n",
       "      <th>year</th>\n",
       "      <th>type</th>\n",
       "      <th>manufacturer</th>\n",
       "      <th>model</th>\n",
       "      <th>engines</th>\n",
       "      <th>seats</th>\n",
       "      <th>speed</th>\n",
       "      <th>engine</th>\n",
       "    </tr>\n",
       "  </thead>\n",
       "  <tbody>\n",
       "    <tr>\n",
       "      <th>0</th>\n",
       "      <td>N10156</td>\n",
       "      <td>2004.0</td>\n",
       "      <td>Fixed wing multi engine</td>\n",
       "      <td>EMBRAER</td>\n",
       "      <td>EMB-145XR</td>\n",
       "      <td>2</td>\n",
       "      <td>55</td>\n",
       "      <td>NaN</td>\n",
       "      <td>Turbo-fan</td>\n",
       "    </tr>\n",
       "  </tbody>\n",
       "</table>\n",
       "</div>"
      ],
      "text/plain": [
       "  tailnum    year                     type manufacturer      model  engines  \\\n",
       "0  N10156  2004.0  Fixed wing multi engine      EMBRAER  EMB-145XR        2   \n",
       "\n",
       "   seats  speed     engine  \n",
       "0     55    NaN  Turbo-fan  "
      ]
     },
     "execution_count": 6,
     "metadata": {},
     "output_type": "execute_result"
    }
   ],
   "source": [
    "planes.head(1)"
   ]
  },
  {
   "cell_type": "code",
   "execution_count": 7,
   "id": "725a2899-8ef9-409d-8784-ab5b668c1773",
   "metadata": {},
   "outputs": [
    {
     "data": {
      "text/html": [
       "<div>\n",
       "<style scoped>\n",
       "    .dataframe tbody tr th:only-of-type {\n",
       "        vertical-align: middle;\n",
       "    }\n",
       "\n",
       "    .dataframe tbody tr th {\n",
       "        vertical-align: top;\n",
       "    }\n",
       "\n",
       "    .dataframe thead th {\n",
       "        text-align: right;\n",
       "    }\n",
       "</style>\n",
       "<table border=\"1\" class=\"dataframe\">\n",
       "  <thead>\n",
       "    <tr style=\"text-align: right;\">\n",
       "      <th></th>\n",
       "      <th>origin</th>\n",
       "      <th>year</th>\n",
       "      <th>month</th>\n",
       "      <th>day</th>\n",
       "      <th>hour</th>\n",
       "      <th>temp</th>\n",
       "      <th>dewp</th>\n",
       "      <th>humid</th>\n",
       "      <th>wind_dir</th>\n",
       "      <th>wind_speed</th>\n",
       "      <th>wind_gust</th>\n",
       "      <th>precip</th>\n",
       "      <th>pressure</th>\n",
       "      <th>visib</th>\n",
       "      <th>time_hour</th>\n",
       "    </tr>\n",
       "  </thead>\n",
       "  <tbody>\n",
       "    <tr>\n",
       "      <th>0</th>\n",
       "      <td>EWR</td>\n",
       "      <td>2013</td>\n",
       "      <td>1</td>\n",
       "      <td>1</td>\n",
       "      <td>0</td>\n",
       "      <td>37.04</td>\n",
       "      <td>21.92</td>\n",
       "      <td>53.97</td>\n",
       "      <td>230.0</td>\n",
       "      <td>10.35702</td>\n",
       "      <td>11.918651</td>\n",
       "      <td>0.0</td>\n",
       "      <td>1013.9</td>\n",
       "      <td>10.0</td>\n",
       "      <td>2013-01-01 01:00:00</td>\n",
       "    </tr>\n",
       "  </tbody>\n",
       "</table>\n",
       "</div>"
      ],
      "text/plain": [
       "  origin  year  month  day  hour   temp   dewp  humid  wind_dir  wind_speed  \\\n",
       "0    EWR  2013      1    1     0  37.04  21.92  53.97     230.0    10.35702   \n",
       "\n",
       "   wind_gust  precip  pressure  visib            time_hour  \n",
       "0  11.918651     0.0    1013.9   10.0  2013-01-01 01:00:00  "
      ]
     },
     "execution_count": 7,
     "metadata": {},
     "output_type": "execute_result"
    }
   ],
   "source": [
    "weather.head(1)"
   ]
  },
  {
   "cell_type": "markdown",
   "id": "1a8eb201-e962-4ce9-861c-1602751317c4",
   "metadata": {},
   "source": [
    "All datasets are read and printed successfully"
   ]
  },
  {
   "cell_type": "markdown",
   "id": "d8e5814d-8b46-4935-8a6d-6a2b29fb9bf5",
   "metadata": {},
   "source": [
    "<br>"
   ]
  },
  {
   "cell_type": "markdown",
   "id": "4ddf01ba-9f99-46f6-b2aa-f8c3dda37edb",
   "metadata": {},
   "source": [
    "Now we create a **temporary database** by making a connection to the **sqlite** and load the datasets"
   ]
  },
  {
   "cell_type": "code",
   "execution_count": 8,
   "id": "af5f37cc-d3d1-4fa9-81b1-5026f04fd125",
   "metadata": {},
   "outputs": [
    {
     "name": "stdout",
     "output_type": "stream",
     "text": [
      "C:\\Users\\harpr\\AppData\\Local\\Temp\\tmpv41pzefr\\travel.db\n"
     ]
    }
   ],
   "source": [
    "import tempfile, os.path\n",
    "dbfile = os.path.join(tempfile.mkdtemp(), \"travel.db\")\n",
    "print(dbfile)"
   ]
  },
  {
   "cell_type": "markdown",
   "id": "5a41c0e7-c897-4ab6-b5dc-9558b9347860",
   "metadata": {},
   "source": [
    "The travel.db database is successfully created in the above path **C:\\Users\\harpr\\AppData\\Local\\Temp\\tmpjb263djd\\travel.db**"
   ]
  },
  {
   "cell_type": "code",
   "execution_count": 9,
   "id": "bdd1c144-d9fb-47c8-8e28-61b4bc1c55d9",
   "metadata": {},
   "outputs": [
    {
     "name": "stdout",
     "output_type": "stream",
     "text": [
      "<sqlite3.Connection object at 0x00000237522D3E40>\n"
     ]
    }
   ],
   "source": [
    "conn = sqlite3.connect(dbfile)\n",
    "print(conn)"
   ]
  },
  {
   "cell_type": "markdown",
   "id": "28dc5326-0b50-459e-b213-32d24b743a7d",
   "metadata": {},
   "source": [
    "**sqlite3** connection is successfully made"
   ]
  },
  {
   "cell_type": "markdown",
   "id": "b32d83e0-76d6-43ff-bbee-bf6271b3c629",
   "metadata": {},
   "source": [
    "Now all the datsets will be loaded into the database using **to_sql** function"
   ]
  },
  {
   "cell_type": "code",
   "execution_count": 10,
   "id": "46390114-daf1-44c0-adc9-4f6b9d6837ad",
   "metadata": {},
   "outputs": [
    {
     "data": {
      "text/plain": [
       "26130"
      ]
     },
     "execution_count": 10,
     "metadata": {},
     "output_type": "execute_result"
    }
   ],
   "source": [
    "airlines.to_sql(\"airlines\", conn, index=False)\n",
    "airports.to_sql(\"airports\", conn, index=False)\n",
    "flights.to_sql(\"flights\", conn, index=False)\n",
    "planes.to_sql(\"planes\", conn, index=False)\n",
    "weather.to_sql(\"weather\", conn, index=False)"
   ]
  },
  {
   "cell_type": "markdown",
   "id": "257e56a7-990d-4f05-bf5c-926bdc6ae630",
   "metadata": {},
   "source": [
    "<br>"
   ]
  },
  {
   "cell_type": "markdown",
   "id": "a6b25771-284f-4444-b920-713f48ab2384",
   "metadata": {},
   "source": [
    "Now we are going to **run sql queries and equivalent pandas code to get the same results**"
   ]
  },
  {
   "cell_type": "code",
   "execution_count": 11,
   "id": "257f0aa9-e64c-458a-a24b-8b7cec0c7f10",
   "metadata": {},
   "outputs": [],
   "source": [
    "# Sql query\n",
    "task1_sql = pd.read_sql_query(\"\"\"\n",
    "SELECT DISTINCT engine FROM planes\n",
    "\"\"\", conn)"
   ]
  },
  {
   "cell_type": "markdown",
   "id": "13b93883-8f21-4574-a785-26f75bbcad02",
   "metadata": {},
   "source": [
    "The above **task1_sql sql query fetches the distinct engine values from the planes table**"
   ]
  },
  {
   "cell_type": "code",
   "execution_count": 12,
   "id": "9fa45586-4a57-46b1-b513-d4fa3b62ffa0",
   "metadata": {},
   "outputs": [],
   "source": [
    "task1_my = (\n",
    "pd.DataFrame(planes['engine'].unique(),columns = ['engine'])\n",
    ")"
   ]
  },
  {
   "cell_type": "markdown",
   "id": "31ac8bd2-dce1-4dea-9882-2062864c597e",
   "metadata": {},
   "source": [
    "**task1_my** code uses the **unique() method on engine columns of planes dataframe to get the unique values**"
   ]
  },
  {
   "cell_type": "code",
   "execution_count": 13,
   "id": "79ed16b3-a771-457f-8ad6-acfcd4f504e1",
   "metadata": {},
   "outputs": [],
   "source": [
    "pd.testing.assert_frame_equal(task1_sql, task1_my)"
   ]
  },
  {
   "cell_type": "markdown",
   "id": "94958944-3a78-48c2-8ae8-868df0da9d67",
   "metadata": {},
   "source": [
    "<br><br>"
   ]
  },
  {
   "cell_type": "markdown",
   "id": "e1d9b373-5d80-4655-9b68-02311dd3d6c1",
   "metadata": {},
   "source": [
    "**task2_sql** sql query fetches **the distinct type an engine values from planes table**"
   ]
  },
  {
   "cell_type": "code",
   "execution_count": 14,
   "id": "cfff05f2-6bd1-4fb7-b696-28fd54e18b91",
   "metadata": {},
   "outputs": [],
   "source": [
    "task2_sql = pd.read_sql_query(\"\"\"\n",
    "SELECT DISTINCT type, engine FROM planes\n",
    "\"\"\", conn)"
   ]
  },
  {
   "cell_type": "code",
   "execution_count": 15,
   "id": "a40f6154-3a18-4261-baa0-9d47a7521a4f",
   "metadata": {},
   "outputs": [],
   "source": [
    "task2_my = (\n",
    "planes[['type', 'engine']].drop_duplicates().reset_index(drop=True)\n",
    ")"
   ]
  },
  {
   "cell_type": "markdown",
   "id": "c62c9ab8-48d5-4232-8dc1-61c2acde885d",
   "metadata": {},
   "source": [
    "**task2_my** code uses **drop_duplicates method on the planes dataset, which removes the duplicate rows from the dataset to get unique values**"
   ]
  },
  {
   "cell_type": "code",
   "execution_count": 16,
   "id": "eaf8cc6e-862e-417b-add8-3a4aff66e3ca",
   "metadata": {},
   "outputs": [],
   "source": [
    "pd.testing.assert_frame_equal(task2_sql, task2_my)"
   ]
  },
  {
   "cell_type": "markdown",
   "id": "6277dda0-6d6a-49ea-9ddd-6441b519a2c9",
   "metadata": {},
   "source": [
    "<br><br>"
   ]
  },
  {
   "cell_type": "code",
   "execution_count": 17,
   "id": "bf44e6f4-cd0a-4c59-95bf-26dd5e0c363d",
   "metadata": {},
   "outputs": [],
   "source": [
    "task3_sql = pd.read_sql_query(\"\"\"\n",
    "SELECT COUNT(*), engine FROM planes GROUP BY engine\n",
    "\"\"\", conn)"
   ]
  },
  {
   "cell_type": "markdown",
   "id": "0995a60d-e1f3-4e97-9c97-d6fdd6c4498d",
   "metadata": {},
   "source": [
    "**task3_sql sql counts the number of records for each engine**"
   ]
  },
  {
   "cell_type": "code",
   "execution_count": 18,
   "id": "5ddbff4d-6430-4358-9aca-2cfff9bafc2b",
   "metadata": {},
   "outputs": [],
   "source": [
    "task3_my = (\n",
    "planes.groupby('engine').size().to_frame('COUNT(*)').\n",
    "    reset_index()[['COUNT(*)','engine']]\n",
    ")"
   ]
  },
  {
   "cell_type": "markdown",
   "id": "48f2fed0-2e3d-4ae9-b71a-77dd99a245cf",
   "metadata": {},
   "source": [
    "**task3_my code groups the planes dataset by engine using groupby method , then counts the rows using size method**"
   ]
  },
  {
   "cell_type": "code",
   "execution_count": 19,
   "id": "2f72d581-a684-4b4e-99b6-8253114aefb4",
   "metadata": {},
   "outputs": [],
   "source": [
    "pd.testing.assert_frame_equal(task3_sql, task3_my)"
   ]
  },
  {
   "cell_type": "markdown",
   "id": "a1289d49-39b4-4ab8-aa1b-760b50f48375",
   "metadata": {},
   "source": [
    "<br><br>"
   ]
  },
  {
   "cell_type": "code",
   "execution_count": 20,
   "id": "084262c8-83f8-4380-92f7-1b6b5cf7200c",
   "metadata": {},
   "outputs": [],
   "source": [
    "task4_sql = pd.read_sql_query(\"\"\"\n",
    "SELECT COUNT(*), engine, type FROM planes\n",
    "GROUP BY engine, type\n",
    "\"\"\", conn)"
   ]
  },
  {
   "cell_type": "markdown",
   "id": "344cde3b-dc4d-406f-8fce-6179f5b7a335",
   "metadata": {},
   "source": [
    "**task4_sql counts the number of records based on engine and type from the planes table**"
   ]
  },
  {
   "cell_type": "code",
   "execution_count": 21,
   "id": "8ece1b25-0a44-4883-9e24-a357f8cb7a10",
   "metadata": {},
   "outputs": [],
   "source": [
    "task4_my = (\n",
    "planes.groupby(['engine','type']).size().\n",
    "    to_frame('COUNT(*)').reset_index()\n",
    "    [['COUNT(*)','engine','type']]\n",
    ")"
   ]
  },
  {
   "cell_type": "markdown",
   "id": "5f54a5bf-6671-45a5-8b29-4f4583dd3868",
   "metadata": {},
   "source": [
    "**task4_my code uses groupby method on engine and type column to group the dataset first and the uses size method to count the respective rows**"
   ]
  },
  {
   "cell_type": "code",
   "execution_count": 22,
   "id": "aca42fdc-2dd0-4417-9c74-5c6ab6ee0995",
   "metadata": {},
   "outputs": [],
   "source": [
    "pd.testing.assert_frame_equal(task4_sql, task4_my)"
   ]
  },
  {
   "cell_type": "markdown",
   "id": "90bd19b0-6c10-4278-89ff-be8acf1a0636",
   "metadata": {},
   "source": [
    "<br><br>"
   ]
  },
  {
   "cell_type": "code",
   "execution_count": 23,
   "id": "016246fe-d7d5-4572-8aa1-7144472990ae",
   "metadata": {},
   "outputs": [],
   "source": [
    "task5_sql = pd.read_sql_query(\"\"\"\n",
    "SELECT MIN(year), AVG(year), MAX(year), engine, manufacturer\n",
    "FROM planes\n",
    "GROUP BY engine, manufacturer\n",
    "\"\"\", conn)"
   ]
  },
  {
   "cell_type": "markdown",
   "id": "af46657b-300c-400b-aaf1-4f4962415b6d",
   "metadata": {},
   "source": [
    "**task5_sql fetches the minimum, average ,maximum year values based on engine and manufacturer**"
   ]
  },
  {
   "cell_type": "code",
   "execution_count": 24,
   "id": "954ab4fc-24a5-40d5-a960-42f604c3820d",
   "metadata": {},
   "outputs": [],
   "source": [
    "task5_my = (\n",
    "planes.groupby(['engine', 'manufacturer'])[['year']].\n",
    "    describe().droplevel(level=0,axis = 'columns').\n",
    "    reset_index()[['engine', 'manufacturer', 'mean', 'min','max']].\n",
    "    rename(columns = {\"min\":\"MIN(year)\",\n",
    "                      \"mean\":\"AVG(year)\",\n",
    "                      \"max\":\"MAX(year)\"})\n",
    "    [['MIN(year)','AVG(year)', 'MAX(year)', 'engine', 'manufacturer']]\n",
    "    \n",
    "    # [['engine','manufacturer','min','mean','max']]\n",
    ")"
   ]
  },
  {
   "cell_type": "markdown",
   "id": "742248a5-4373-4f0b-8a5b-95339dea9cea",
   "metadata": {},
   "source": [
    "**task5_my code first groups the dataset using groupby method, calculating the statistics values using describe method and then extacting the minimum,average and maximum year values**"
   ]
  },
  {
   "cell_type": "code",
   "execution_count": 25,
   "id": "8c3c0ca4-6d83-4b5a-a0c6-02b594bad0af",
   "metadata": {},
   "outputs": [],
   "source": [
    "pd.testing.assert_frame_equal(task5_sql, task5_my)"
   ]
  },
  {
   "cell_type": "markdown",
   "id": "d26f35cf-3a3c-4a5e-989b-e99078413405",
   "metadata": {},
   "source": [
    "<br><br>"
   ]
  },
  {
   "cell_type": "code",
   "execution_count": 26,
   "id": "ac91e251-5ceb-401e-a3e0-621813e23e1c",
   "metadata": {},
   "outputs": [],
   "source": [
    "task6_sql = pd.read_sql_query(\"\"\"\n",
    "SELECT * FROM planes WHERE speed IS NOT NULL\n",
    "\"\"\", conn)"
   ]
  },
  {
   "cell_type": "markdown",
   "id": "42d94c93-ddb1-4806-863f-f3e4d1304f46",
   "metadata": {},
   "source": [
    "**task6_sql sql fetches all records where speed value exists**"
   ]
  },
  {
   "cell_type": "code",
   "execution_count": 27,
   "id": "bec78248-afe6-46d2-9a3d-4c0f1e488e3c",
   "metadata": {},
   "outputs": [],
   "source": [
    "task6_my = (\n",
    "planes[planes['speed'].notnull()].reset_index(drop = True)\n",
    ")"
   ]
  },
  {
   "cell_type": "markdown",
   "id": "f1a55fd2-86f8-4151-adbe-6a64127e35da",
   "metadata": {},
   "source": [
    "**task6_my code check not null values using  notnull method on speed column and then filters the planes dataset where notnull method retun true values**"
   ]
  },
  {
   "cell_type": "code",
   "execution_count": 28,
   "id": "7bfb751b-57db-4d6b-9457-2532499dfc55",
   "metadata": {},
   "outputs": [],
   "source": [
    "pd.testing.assert_frame_equal(task6_sql, task6_my)"
   ]
  },
  {
   "cell_type": "markdown",
   "id": "d89be0ea-dff0-489c-835d-7fd2b55e0b0f",
   "metadata": {},
   "source": [
    "<br><br>"
   ]
  },
  {
   "cell_type": "code",
   "execution_count": 29,
   "id": "be392419-0dcc-4483-bb64-973969a2da7f",
   "metadata": {},
   "outputs": [],
   "source": [
    "task7_sql = pd.read_sql_query(\"\"\"\n",
    "SELECT tailnum FROM planes\n",
    "WHERE seats BETWEEN 150 AND 210 AND year >= 2011\n",
    "\"\"\", conn)"
   ]
  },
  {
   "cell_type": "markdown",
   "id": "4998462d-11cb-4481-ac8b-0619bddc67f3",
   "metadata": {},
   "source": [
    "**task7_sql sql fetches the tailnum from planes table where seat value lies between 150 and 210 and year is greater equal to 2011**"
   ]
  },
  {
   "cell_type": "code",
   "execution_count": 30,
   "id": "8d20237e-8599-4f91-8caf-d521ff68c0c3",
   "metadata": {},
   "outputs": [],
   "source": [
    "task7_my = (\n",
    "planes.loc[(planes['year'] >= 2011) & ((planes['seats']>=150) & (planes['seats']<=210)),['tailnum']]\n",
    ").reset_index(drop = True)"
   ]
  },
  {
   "cell_type": "markdown",
   "id": "23e8fb99-00f2-44f9-82a7-72e46b91d0ac",
   "metadata": {},
   "source": [
    "**task7_my code uses loc method which filters the data using year/seats column by applying the & logical operation**"
   ]
  },
  {
   "cell_type": "code",
   "execution_count": 31,
   "id": "ed37d910-5126-4c9f-8ff3-b3c68b4b12a0",
   "metadata": {},
   "outputs": [],
   "source": [
    "pd.testing.assert_frame_equal(task7_sql, task7_my)"
   ]
  },
  {
   "cell_type": "markdown",
   "id": "7f02ed13-340a-4093-b027-4f631fc9b27b",
   "metadata": {},
   "source": [
    "<br><br>"
   ]
  },
  {
   "cell_type": "code",
   "execution_count": 32,
   "id": "69c6771a-cc9c-4506-8a70-54f73c44b861",
   "metadata": {},
   "outputs": [],
   "source": [
    "task8_sql = pd.read_sql_query(\"\"\"\n",
    "SELECT tailnum, manufacturer, seats FROM planes\n",
    "WHERE manufacturer IN (\"BOEING\", \"AIRBUS\", \"EMBRAER\") AND seats>390\n",
    "\"\"\", conn)"
   ]
  },
  {
   "cell_type": "markdown",
   "id": "23c899ff-d822-4957-8369-7a27198d030a",
   "metadata": {},
   "source": [
    "**task8_sql sql fetches the tailnum, manufacturer, seats from planes only for manufacturer belonging to \"BOEING\", \"AIRBUS\", \"EMBRAER\") and seats more than 390**"
   ]
  },
  {
   "cell_type": "code",
   "execution_count": 33,
   "id": "40f0b6e3-1af2-43c5-a96d-a433d7c4c16d",
   "metadata": {},
   "outputs": [],
   "source": [
    "task8_my = (\n",
    "planes.loc[(planes['manufacturer'].isin([\"BOEING\", \"AIRBUS\", \"EMBRAER\"])) & (planes['seats']>390),['tailnum','manufacturer','seats']].reset_index(drop = True)\n",
    ")"
   ]
  },
  {
   "cell_type": "markdown",
   "id": "aa3e9a03-3c32-4cc1-a13e-3a80da22301d",
   "metadata": {},
   "source": [
    "**task8_my code uses isin method which return true values for the \"BOEING\", \"AIRBUS\", \"EMBRAER\" in manufacturer column as well as using & operation to seats column , then finally filters using loc method**"
   ]
  },
  {
   "cell_type": "code",
   "execution_count": 34,
   "id": "b224f9db-7f67-41e6-8d55-76272a10fc4f",
   "metadata": {},
   "outputs": [],
   "source": [
    "pd.testing.assert_frame_equal(task8_sql, task8_my)"
   ]
  },
  {
   "cell_type": "markdown",
   "id": "996843a3-39f4-4430-8a26-3defb11e8ff4",
   "metadata": {},
   "source": [
    "<br><br>"
   ]
  },
  {
   "cell_type": "code",
   "execution_count": 35,
   "id": "40b72a76-53e6-484d-aaa9-eb8740ba767e",
   "metadata": {},
   "outputs": [],
   "source": [
    "task9_sql = pd.read_sql_query(\"\"\"\n",
    "SELECT DISTINCT year, seats FROM planes\n",
    "WHERE year >= 2012 ORDER BY year ASC, seats DESC\n",
    "\"\"\", conn)"
   ]
  },
  {
   "cell_type": "markdown",
   "id": "5b3328e9-8fef-47b2-b137-94f03ac03f28",
   "metadata": {},
   "source": [
    "**task9_sql sql fetches unique values where year greater than 2012 and fetches the results by ordering according to year and seats column**"
   ]
  },
  {
   "cell_type": "code",
   "execution_count": 36,
   "id": "940f8425-51ef-4d00-8f9e-1be48508e685",
   "metadata": {},
   "outputs": [],
   "source": [
    "task9_my = (\n",
    "planes.loc[planes['year'] >= 2012]\n",
    "    [['year', 'seats']].drop_duplicates().\n",
    "    reset_index(drop = True).sort_values(by = ['year','seats']\n",
    "                                         ,ascending = [True,False]).\n",
    "    reset_index(drop = True)\n",
    ")\n"
   ]
  },
  {
   "cell_type": "markdown",
   "id": "cda66eb6-c9d7-45c2-bdfb-d4c79bec1c66",
   "metadata": {},
   "source": [
    "**task9_my code filters the planes data first using loc method , then removing duplicate method to get unique values and then using sort_values function to get the results**"
   ]
  },
  {
   "cell_type": "code",
   "execution_count": 37,
   "id": "6027b080-956b-4f43-b70d-3af8cef3ab55",
   "metadata": {},
   "outputs": [],
   "source": [
    "pd.testing.assert_frame_equal(task9_sql, task9_my)"
   ]
  },
  {
   "cell_type": "markdown",
   "id": "6f5df1c4-0c5a-4f41-865a-a5d74dc9b8b4",
   "metadata": {},
   "source": [
    "<br><br>"
   ]
  },
  {
   "cell_type": "code",
   "execution_count": 38,
   "id": "a63b48c1-281e-4a9f-bdd0-2e246646ae52",
   "metadata": {},
   "outputs": [],
   "source": [
    "task10_sql = pd.read_sql_query(\"\"\"\n",
    "SELECT DISTINCT year, seats FROM planes\n",
    "WHERE year >= 2012 ORDER BY seats DESC, year ASC\n",
    "\"\"\", conn)"
   ]
  },
  {
   "cell_type": "markdown",
   "id": "70ad3184-b7d3-41fe-9a69-173ca8b9b0f6",
   "metadata": {},
   "source": [
    "**task10_sql sql fetches the unique year seats values where year is greater than 2012 and then ordering the results**"
   ]
  },
  {
   "cell_type": "code",
   "execution_count": 39,
   "id": "cf053a0b-44bf-4c4d-a5ad-18aa3a582467",
   "metadata": {},
   "outputs": [],
   "source": [
    "task10_my = (\n",
    "planes.loc[planes['year'] >= 2012]\n",
    "    [['year', 'seats']].drop_duplicates().\n",
    "    reset_index(drop = True).sort_values(by = ['seats','year']\n",
    "                                         ,ascending = [False,True]).\n",
    "    reset_index(drop = True)\n",
    ")"
   ]
  },
  {
   "cell_type": "markdown",
   "id": "2a0c0615-e233-4e72-a8b1-ffb6d6f94782",
   "metadata": {},
   "source": [
    "**task10_my code first filters the data according to year, then using drop_duplicates method to remove duplicated values from year, seat columns and then finally sorts the results based on seats and year column**"
   ]
  },
  {
   "cell_type": "code",
   "execution_count": 40,
   "id": "73d96f64-5a52-402b-b42d-48e015da2d92",
   "metadata": {},
   "outputs": [],
   "source": [
    "pd.testing.assert_frame_equal(task10_sql, task10_my)"
   ]
  },
  {
   "cell_type": "markdown",
   "id": "3bb55598-d578-4816-a769-2102d7e85223",
   "metadata": {},
   "source": [
    "<br><br>"
   ]
  },
  {
   "cell_type": "code",
   "execution_count": 41,
   "id": "603a2dc1-db33-4cda-947c-ba8ac05d2147",
   "metadata": {},
   "outputs": [],
   "source": [
    "task11_sql = pd.read_sql_query(\"\"\"\n",
    "SELECT manufacturer, COUNT(*) FROM planes\n",
    "WHERE seats > 200 GROUP BY manufacturer\n",
    "\"\"\", conn)"
   ]
  },
  {
   "cell_type": "markdown",
   "id": "07f26fc2-0676-4366-a708-8a7a9807f8b2",
   "metadata": {},
   "source": [
    "**task11_sql sql counts the number of records based on differnet manufacturers where seats are greater than 200**"
   ]
  },
  {
   "cell_type": "code",
   "execution_count": 42,
   "id": "c6aef3dd-7216-40ac-aec5-12707e5cbe27",
   "metadata": {},
   "outputs": [],
   "source": [
    "task11_my = (\n",
    "planes.loc[planes['seats'] > 200].groupby('manufacturer').size().to_frame(\"COUNT(*)\").reset_index()\n",
    ")"
   ]
  },
  {
   "cell_type": "markdown",
   "id": "7afe9367-d470-4d9a-bc1b-75bab9995eb3",
   "metadata": {},
   "source": [
    "**task11_my code first filters the results using logical condition,then group the result using groupby method on manufacturer column and finally counting the records using size method**"
   ]
  },
  {
   "cell_type": "code",
   "execution_count": 43,
   "id": "fa05ca1c-e940-4430-b925-c3592da19bc2",
   "metadata": {},
   "outputs": [],
   "source": [
    "pd.testing.assert_frame_equal(task11_sql, task11_my)"
   ]
  },
  {
   "cell_type": "markdown",
   "id": "ce200372-3e03-4171-844a-c5ed43843007",
   "metadata": {},
   "source": [
    "<br><br>"
   ]
  },
  {
   "cell_type": "code",
   "execution_count": 44,
   "id": "9f5d9efd-f3da-4e2b-a233-15aaf367fc93",
   "metadata": {},
   "outputs": [],
   "source": [
    "task12_sql = pd.read_sql_query(\"\"\"\n",
    "SELECT manufacturer, COUNT(*) FROM planes\n",
    "GROUP BY manufacturer HAVING COUNT(*) > 10\n",
    "\"\"\", conn)"
   ]
  },
  {
   "cell_type": "markdown",
   "id": "7833033f-8e23-4cce-beae-7d4d5f71df25",
   "metadata": {},
   "source": [
    "**task12_sql sql counts the number of records for different manufacturers having records greater than 10**"
   ]
  },
  {
   "cell_type": "code",
   "execution_count": 45,
   "id": "a824aadf-2039-4b2d-99ef-223884594c4f",
   "metadata": {},
   "outputs": [],
   "source": [
    "task12_my = (\n",
    "    planes.groupby('manufacturer').filter(lambda x: len(x) > 10)\n",
    "    .groupby('manufacturer').size().to_frame(name = 'COUNT(*)').reset_index()\n",
    ")"
   ]
  },
  {
   "cell_type": "markdown",
   "id": "ea62abf5-3bc0-4b14-8dad-f4990b8b4279",
   "metadata": {},
   "source": [
    "**task12_my code first groups the result using groupby method, filters the data using lambda function having records greater than 10, then again groups the result and finally counts the records using size method to count the number of records**"
   ]
  },
  {
   "cell_type": "code",
   "execution_count": 46,
   "id": "6bb15299-0765-4f8e-9b94-5fdbd27dd553",
   "metadata": {},
   "outputs": [],
   "source": [
    "pd.testing.assert_frame_equal(task12_sql, task12_my)"
   ]
  },
  {
   "cell_type": "markdown",
   "id": "5dd336d6-f02d-46e4-a10f-87695cd55abb",
   "metadata": {},
   "source": [
    "<br><br>"
   ]
  },
  {
   "cell_type": "code",
   "execution_count": 47,
   "id": "63263638-0731-4567-a790-3b1e9d0b0f7f",
   "metadata": {},
   "outputs": [],
   "source": [
    "task13_sql = pd.read_sql_query(\"\"\"\n",
    "SELECT manufacturer, COUNT(*) FROM planes\n",
    "WHERE seats > 200 GROUP BY manufacturer HAVING COUNT(*) > 10\n",
    "\"\"\", conn)"
   ]
  },
  {
   "cell_type": "markdown",
   "id": "9b69b9b1-583b-42b9-be73-8bf797f10e88",
   "metadata": {},
   "source": [
    "**task13_sql sql counts the number of records for different manufacturers which has more than 200 seats and totl records greater than 10**"
   ]
  },
  {
   "cell_type": "code",
   "execution_count": 48,
   "id": "74ba8519-ebbf-4ab9-9fa1-95f9b4ad665b",
   "metadata": {},
   "outputs": [],
   "source": [
    "task13_my = (\n",
    "planes.loc[planes['seats'] > 200].groupby(\"manufacturer\").size().to_frame(\"COUNT(*)\").reset_index()\n",
    "    [planes.loc[planes['seats'] > 200].groupby(\"manufacturer\").size().to_frame(\"COUNT(*)\").\n",
    "     reset_index()[\"COUNT(*)\"]>10].reset_index(drop = True)\n",
    ")"
   ]
  },
  {
   "cell_type": "markdown",
   "id": "88859ce4-f841-44ca-9886-e23dcd9057fe",
   "metadata": {},
   "source": [
    "**task13_my code first filters the data having seats greater than 200, groups the result on manufacturer using groupby methodand count the number of records that gives a dataframe.the resulting data frame is filtered again on counts ahving values greater than 10**"
   ]
  },
  {
   "cell_type": "code",
   "execution_count": 49,
   "id": "b4f20f81-aa66-4f1f-926b-382ebd55fcb2",
   "metadata": {},
   "outputs": [],
   "source": [
    "pd.testing.assert_frame_equal(task13_sql, task13_my)"
   ]
  },
  {
   "cell_type": "markdown",
   "id": "7b5ef836-a895-4f86-83ce-1b2b5ea94e6e",
   "metadata": {},
   "source": [
    "<br><br>"
   ]
  },
  {
   "cell_type": "code",
   "execution_count": 50,
   "id": "fbf12eeb-7522-4987-815f-4437f17a8f5a",
   "metadata": {},
   "outputs": [],
   "source": [
    "task14_sql = pd.read_sql_query(\"\"\"\n",
    "SELECT manufacturer, COUNT(*) AS howmany\n",
    "FROM planes\n",
    "GROUP BY manufacturer\n",
    "ORDER BY howmany DESC LIMIT 10\n",
    "\"\"\", conn)"
   ]
  },
  {
   "cell_type": "markdown",
   "id": "ffaaabca-af7d-40c0-b346-de1dcf374c70",
   "metadata": {},
   "source": [
    "**task14_sql sql counts the number of records for different manufacturers and ordering the result in descending order and finally getting top 10 values**"
   ]
  },
  {
   "cell_type": "code",
   "execution_count": 51,
   "id": "17c19a67-b79f-46cf-b2f3-3cee1eac9fef",
   "metadata": {},
   "outputs": [],
   "source": [
    "task14_my = (\n",
    "planes.groupby(\"manufacturer\").size().to_frame(\"howmany\").reset_index().\n",
    "    sort_values(by = 'howmany',ascending = False).head(10).reset_index(drop = True)\n",
    ")"
   ]
  },
  {
   "cell_type": "markdown",
   "id": "58de2ec4-b797-48fc-881d-5f4ba0c9fc7e",
   "metadata": {},
   "source": [
    "**task14_my code first groups the result using groupby on manufacturer column, counting the records using size method,sorting the results using sort_values method and finally getting top 10 values using head method**"
   ]
  },
  {
   "cell_type": "code",
   "execution_count": 52,
   "id": "1b57263b-30a9-4613-bf01-ac6cce6aa24d",
   "metadata": {},
   "outputs": [],
   "source": [
    "pd.testing.assert_frame_equal(task14_sql, task14_my)"
   ]
  },
  {
   "cell_type": "markdown",
   "id": "65b8ebb0-d373-4bbd-beaa-37e2b0cb300e",
   "metadata": {},
   "source": [
    "<br><br>"
   ]
  },
  {
   "cell_type": "code",
   "execution_count": 53,
   "id": "728bb1c7-194c-4897-a59f-f31339dbe22a",
   "metadata": {},
   "outputs": [],
   "source": [
    "task15_sql = pd.read_sql_query(\"\"\"\n",
    "SELECT\n",
    "flights.*,\n",
    "planes.year AS plane_year,\n",
    "planes.speed AS plane_speed,\n",
    "planes.seats AS plane_seats\n",
    "FROM flights LEFT JOIN planes ON flights.tailnum=planes.tailnum\n",
    "\"\"\", conn)"
   ]
  },
  {
   "cell_type": "markdown",
   "id": "af0c43fa-4a55-4d16-8070-b1eb13dcf4a5",
   "metadata": {},
   "source": [
    "**task15_sql sql joins flights table and planes table using left join**"
   ]
  },
  {
   "cell_type": "code",
   "execution_count": 54,
   "id": "8dc17d4c-50bf-4abf-bee1-43e1e9b79954",
   "metadata": {},
   "outputs": [],
   "source": [
    "task15_my = (\n",
    "pd.merge(flights, planes[['year','speed','seats','tailnum']], \n",
    "         left_on='tailnum',right_on='tailnum',\n",
    "         how = 'left',suffixes=['_flights','_planes']).reset_index(drop = True).\n",
    "    rename(columns = {\"year_flights\":\"year\",\n",
    "                     \"year_planes\":\"plane_year\",\n",
    "                     \"speed\":\"plane_speed\",\n",
    "                     \"seats\":\"plane_seats\"})\n",
    ")"
   ]
  },
  {
   "cell_type": "markdown",
   "id": "9b3cc625-be4f-4a87-9a0d-7c4fd0ddab41",
   "metadata": {},
   "source": [
    "**task15_my code joins flights and planes dataset using merge method on tailnum column key value** "
   ]
  },
  {
   "cell_type": "code",
   "execution_count": 55,
   "id": "f0878b25-1817-4b18-a369-91846226db08",
   "metadata": {},
   "outputs": [],
   "source": [
    "pd.testing.assert_frame_equal(task15_sql, task15_my)"
   ]
  },
  {
   "cell_type": "markdown",
   "id": "2a04530c-51e0-4c5b-a478-fee80e3b43cf",
   "metadata": {},
   "source": [
    "<br><br>"
   ]
  },
  {
   "cell_type": "code",
   "execution_count": 56,
   "id": "00b1e6ea-bcb5-4cf7-aebb-523c454f728b",
   "metadata": {},
   "outputs": [],
   "source": [
    "task17_sql = pd.read_sql_query(\"\"\"\n",
    "SELECT\n",
    "flights2.*,\n",
    "atemp,\n",
    "ahumid\n",
    "FROM (\n",
    "SELECT * FROM flights WHERE origin='EWR'\n",
    ") AS flights2\n",
    "LEFT JOIN (\n",
    "SELECT\n",
    "year, month, day,\n",
    "AVG(temp) AS atemp,\n",
    "AVG(humid) AS ahumid\n",
    "FROM weather\n",
    "WHERE origin='EWR'\n",
    "GROUP BY year, month, day\n",
    ") AS weather2\n",
    "ON flights2.year=weather2.year\n",
    "AND flights2.month=weather2.month\n",
    "AND flights2.day=weather2.day\n",
    "\"\"\", conn)"
   ]
  },
  {
   "cell_type": "markdown",
   "id": "83a08612-2b40-434e-812d-6145df452f2a",
   "metadata": {},
   "source": [
    "**task17_sql sql creates a temp table as flights2,using this table to have a left join with weather table  having average temp and average humid values for EWR origin,which uses  year,month and day key column for joining  and finally getting all columns from flight2 and average temp and average humid values**"
   ]
  },
  {
   "cell_type": "code",
   "execution_count": 57,
   "id": "ccbacc21-6f75-46be-87fc-a558ecf83812",
   "metadata": {},
   "outputs": [],
   "source": [
    "task17_my = (\n",
    "pd.merge(flights.loc[flights['origin'] == 'EWR'],\n",
    "    weather[weather['origin'] == \"EWR\"].groupby(['year', 'month','day']).agg({'temp':'mean','humid':'mean'})\n",
    "    .reset_index().rename(columns = {\"temp\":\"atemp\",\n",
    "                                    \"humid\":\"ahumid\"}),\n",
    "         how='left',on=['year','month','day'])\n",
    ")"
   ]
  },
  {
   "cell_type": "markdown",
   "id": "88e81e0c-64a1-4711-ab05-383c5de42463",
   "metadata": {},
   "source": [
    "**task17_my code first filters the flights table for EWR origin, then filters weather table for EWR origin,grouping the result using groupby on year,month and day column, which further uses agg method to calculate mean of temp and humid columns. It then merges the two dataset using merge method to give the final result**"
   ]
  },
  {
   "cell_type": "code",
   "execution_count": 58,
   "id": "d0c476cf-19d3-4a84-89da-5a89d2a5e95f",
   "metadata": {},
   "outputs": [],
   "source": [
    "pd.testing.assert_frame_equal(task17_sql, task17_my)"
   ]
  },
  {
   "cell_type": "markdown",
   "id": "d000ad3d-53af-402d-9311-f03052bac0b5",
   "metadata": {},
   "source": [
    "<br>"
   ]
  },
  {
   "cell_type": "markdown",
   "id": "e62cea6b-9ee3-4229-95bd-1336c3bc335d",
   "metadata": {},
   "source": [
    "In this report , we run the sql queries on the given dataset and after that we run the pandas code using the same logic used in sql queries and check if we are getting the same result.<br> For this first we load the dataset into temporary table using sqlite and to_sql function. we alse use various pandas functions for manipulating the data to obtain the similar results returned by sql queries"
   ]
  },
  {
   "cell_type": "code",
   "execution_count": null,
   "id": "58fe5a64-7447-47dd-b9e9-2129215c5e2a",
   "metadata": {},
   "outputs": [],
   "source": []
  }
 ],
 "metadata": {
  "kernelspec": {
   "display_name": "Python 3 (ipykernel)",
   "language": "python",
   "name": "python3"
  },
  "language_info": {
   "codemirror_mode": {
    "name": "ipython",
    "version": 3
   },
   "file_extension": ".py",
   "mimetype": "text/x-python",
   "name": "python",
   "nbconvert_exporter": "python",
   "pygments_lexer": "ipython3",
   "version": "3.9.13"
  }
 },
 "nbformat": 4,
 "nbformat_minor": 5
}
